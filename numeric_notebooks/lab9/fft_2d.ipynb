{
 "cells": [
  {
   "cell_type": "markdown",
   "metadata": {
    "toc": true
   },
   "source": [
    "<h1>Table of Contents<span class=\"tocSkip\"></span></h1>\n",
    "<div class=\"toc\" style=\"margin-top: 1em;\"><ul class=\"toc-item\"><li><span><a href=\"#2D-histogram-of-the-optical-depth-$\\tau$\" data-toc-modified-id=\"2D-histogram-of-the-optical-depth-$\\tau$-1\"><span class=\"toc-item-num\">1&nbsp;&nbsp;</span>2D histogram of the optical depth $\\tau$</a></span><ul class=\"toc-item\"><li><span><a href=\"#Character-of-the-optical-depth-field\" data-toc-modified-id=\"Character-of-the-optical-depth-field-1.1\"><span class=\"toc-item-num\">1.1&nbsp;&nbsp;</span>Character of the optical depth field</a></span></li><li><span><a href=\"#ubc_fft-class\" data-toc-modified-id=\"ubc_fft-class-1.2\"><span class=\"toc-item-num\">1.2&nbsp;&nbsp;</span>ubc_fft class</a></span></li></ul></li><li><span><a href=\"#Problem----lowpass-filtering-of-a-2-d-image\" data-toc-modified-id=\"Problem----lowpass-filtering-of-a-2-d-image-2\"><span class=\"toc-item-num\">2&nbsp;&nbsp;</span>Problem -- lowpass filtering of a 2-d image</a></span></li></ul></div>"
   ]
  },
  {
   "cell_type": "markdown",
   "metadata": {
    "collapsed": true
   },
   "source": [
    "# 2D histogram of the optical depth $\\tau$\n",
    "\n",
    "Below I calculate the 2-d and averaged 1-d spectra for the optical depth, which gives the penetration\n",
    "depth of photons through a cloud, and is closely related to cloud thickness"
   ]
  },
  {
   "cell_type": "code",
   "execution_count": 1,
   "metadata": {
    "collapsed": true
   },
   "outputs": [],
   "source": [
    "import warnings\n",
    "warnings.filterwarnings(\"ignore\",category=FutureWarning)"
   ]
  },
  {
   "cell_type": "code",
   "execution_count": 2,
   "metadata": {},
   "outputs": [
    {
     "name": "stdout",
     "output_type": "stream",
     "text": [
      "download a17.nc: size is     17 Mbytes\n"
     ]
    }
   ],
   "source": [
    "from matplotlib import pyplot as plt\n",
    "import urllib\n",
    "import os\n",
    "filelist=['a17.nc']\n",
    "data_download=True\n",
    "if data_download:\n",
    "    for the_file in filelist:\n",
    "        url='http://clouds.eos.ubc.ca/~phil/docs/atsc500/data/{}'.format(the_file)\n",
    "        urllib.request.urlretrieve(url,the_file)\n",
    "print(\"download {}: size is {:6.2g} Mbytes\".format(the_file,os.path.getsize(the_file)*1.e-6))"
   ]
  },
  {
   "cell_type": "code",
   "execution_count": 3,
   "metadata": {},
   "outputs": [
    {
     "ename": "ModuleNotFoundError",
     "evalue": "No module named 'netCDF4'",
     "output_type": "error",
     "traceback": [
      "\u001b[0;31m---------------------------------------------------------------------------\u001b[0m",
      "\u001b[0;31mModuleNotFoundError\u001b[0m                       Traceback (most recent call last)",
      "\u001b[0;32m<ipython-input-3-de5fe010b18b>\u001b[0m in \u001b[0;36m<module>\u001b[0;34m\u001b[0m\n\u001b[0;32m----> 1\u001b[0;31m \u001b[0;32mfrom\u001b[0m \u001b[0mnetCDF4\u001b[0m \u001b[0;32mimport\u001b[0m \u001b[0mDataset\u001b[0m\u001b[0;34m\u001b[0m\u001b[0;34m\u001b[0m\u001b[0m\n\u001b[0m\u001b[1;32m      2\u001b[0m \u001b[0;32mwith\u001b[0m \u001b[0mDataset\u001b[0m\u001b[0;34m(\u001b[0m\u001b[0mfilelist\u001b[0m\u001b[0;34m[\u001b[0m\u001b[0;36m0\u001b[0m\u001b[0;34m]\u001b[0m\u001b[0;34m)\u001b[0m \u001b[0;32mas\u001b[0m \u001b[0mnc\u001b[0m\u001b[0;34m:\u001b[0m\u001b[0;34m\u001b[0m\u001b[0;34m\u001b[0m\u001b[0m\n\u001b[1;32m      3\u001b[0m     \u001b[0mtau\u001b[0m\u001b[0;34m=\u001b[0m\u001b[0mnc\u001b[0m\u001b[0;34m.\u001b[0m\u001b[0mvariables\u001b[0m\u001b[0;34m[\u001b[0m\u001b[0;34m'tau'\u001b[0m\u001b[0;34m]\u001b[0m\u001b[0;34m[\u001b[0m\u001b[0;34m...\u001b[0m\u001b[0;34m]\u001b[0m\u001b[0;34m\u001b[0m\u001b[0;34m\u001b[0m\u001b[0m\n",
      "\u001b[0;31mModuleNotFoundError\u001b[0m: No module named 'netCDF4'"
     ]
    }
   ],
   "source": [
    "from netCDF4 import Dataset\n",
    "with Dataset(filelist[0]) as nc:\n",
    "    tau=nc.variables['tau'][...]"
   ]
  },
  {
   "cell_type": "markdown",
   "metadata": {},
   "source": [
    "## Character of the optical depth field\n",
    "\n",
    "The image below shows one of the marine boundary layer landsat scenes analyzed in \n",
    "[Lewis et al., 2004](http://onlinelibrary.wiley.com/doi/10.1029/2003JD003742/full)\n",
    "\n",
    "It is a 2048 x 2048 pixel image taken by Landsat 7, with the visible reflectivity converted to\n",
    "cloud optical depth.   The pixels are 25 m x 25 m, so the scene extends for about 50 km x 50 km"
   ]
  },
  {
   "cell_type": "code",
   "execution_count": 4,
   "metadata": {},
   "outputs": [
    {
     "ename": "NameError",
     "evalue": "name 'tau' is not defined",
     "output_type": "error",
     "traceback": [
      "\u001b[0;31m---------------------------------------------------------------------------\u001b[0m",
      "\u001b[0;31mNameError\u001b[0m                                 Traceback (most recent call last)",
      "\u001b[0;32m<ipython-input-4-175f0c57cfd9>\u001b[0m in \u001b[0;36m<module>\u001b[0;34m\u001b[0m\n\u001b[1;32m      4\u001b[0m \u001b[0mfig\u001b[0m\u001b[0;34m,\u001b[0m\u001b[0max\u001b[0m\u001b[0;34m=\u001b[0m\u001b[0mplt\u001b[0m\u001b[0;34m.\u001b[0m\u001b[0msubplots\u001b[0m\u001b[0;34m(\u001b[0m\u001b[0;36m1\u001b[0m\u001b[0;34m,\u001b[0m\u001b[0;36m2\u001b[0m\u001b[0;34m,\u001b[0m\u001b[0mfigsize\u001b[0m\u001b[0;34m=\u001b[0m\u001b[0;34m(\u001b[0m\u001b[0;36m13\u001b[0m\u001b[0;34m,\u001b[0m\u001b[0;36m7\u001b[0m\u001b[0;34m)\u001b[0m\u001b[0;34m)\u001b[0m\u001b[0;34m\u001b[0m\u001b[0;34m\u001b[0m\u001b[0m\n\u001b[1;32m      5\u001b[0m \u001b[0max\u001b[0m\u001b[0;34m[\u001b[0m\u001b[0;36m0\u001b[0m\u001b[0;34m]\u001b[0m\u001b[0;34m.\u001b[0m\u001b[0mset_title\u001b[0m\u001b[0;34m(\u001b[0m\u001b[0;34m'landsat a17'\u001b[0m\u001b[0;34m)\u001b[0m\u001b[0;34m\u001b[0m\u001b[0;34m\u001b[0m\u001b[0m\n\u001b[0;32m----> 6\u001b[0;31m \u001b[0mim0\u001b[0m\u001b[0;34m=\u001b[0m\u001b[0max\u001b[0m\u001b[0;34m[\u001b[0m\u001b[0;36m0\u001b[0m\u001b[0;34m]\u001b[0m\u001b[0;34m.\u001b[0m\u001b[0mimshow\u001b[0m\u001b[0;34m(\u001b[0m\u001b[0mtau\u001b[0m\u001b[0;34m)\u001b[0m\u001b[0;34m\u001b[0m\u001b[0;34m\u001b[0m\u001b[0m\n\u001b[0m\u001b[1;32m      7\u001b[0m \u001b[0mim1\u001b[0m\u001b[0;34m=\u001b[0m\u001b[0max\u001b[0m\u001b[0;34m[\u001b[0m\u001b[0;36m1\u001b[0m\u001b[0;34m]\u001b[0m\u001b[0;34m.\u001b[0m\u001b[0mhist\u001b[0m\u001b[0;34m(\u001b[0m\u001b[0mtau\u001b[0m\u001b[0;34m.\u001b[0m\u001b[0mravel\u001b[0m\u001b[0;34m(\u001b[0m\u001b[0;34m)\u001b[0m\u001b[0;34m)\u001b[0m\u001b[0;34m\u001b[0m\u001b[0;34m\u001b[0m\u001b[0m\n\u001b[1;32m      8\u001b[0m \u001b[0max\u001b[0m\u001b[0;34m[\u001b[0m\u001b[0;36m1\u001b[0m\u001b[0;34m]\u001b[0m\u001b[0;34m.\u001b[0m\u001b[0mset_title\u001b[0m\u001b[0;34m(\u001b[0m\u001b[0;34m'histogram of tau values'\u001b[0m\u001b[0;34m)\u001b[0m\u001b[0;34m\u001b[0m\u001b[0;34m\u001b[0m\u001b[0m\n",
      "\u001b[0;31mNameError\u001b[0m: name 'tau' is not defined"
     ]
    },
    {
     "data": {
      "image/png": "[encoded data removed]",
      "text/plain": [
       "<Figure size 936x504 with 2 Axes>"
      ]
     },
     "metadata": {
      "needs_background": "light"
     },
     "output_type": "display_data"
    }
   ],
   "source": [
    "%matplotlib inline\n",
    "from mpl_toolkits.axes_grid1 import make_axes_locatable\n",
    "plt.close('all')\n",
    "fig,ax=plt.subplots(1,2,figsize=(13,7))\n",
    "ax[0].set_title('landsat a17')\n",
    "im0=ax[0].imshow(tau)\n",
    "im1=ax[1].hist(tau.ravel())\n",
    "ax[1].set_title('histogram of tau values')\n",
    "divider = make_axes_locatable(ax[0])\n",
    "cax = divider.append_axes(\"bottom\", size=\"5%\", pad=0.35)\n",
    "out=fig.colorbar(im0,orientation='horizontal',cax=cax)"
   ]
  },
  {
   "cell_type": "markdown",
   "metadata": {},
   "source": [
    "## ubc_fft class"
   ]
  },
  {
   "cell_type": "markdown",
   "metadata": {},
   "source": [
    "In the next cell I define a class that calculates the 2-d fft for a square image\n",
    "\n",
    "in the method ```power_spectrum``` we calculate both the 2d fft and the power spectrum\n",
    "and save them as class attributes.  In the method ```annular_average``` I take the power spectrum,\n",
    "which is the two-dimensional field  $E(k_x, k_y)$ (in cartesian coordinates) or $E(k,\\theta)$ (in polar coordinates).\n",
    "In the method ```annular_avg``` I take the average\n",
    "\n",
    "$$\n",
    "\\overline{E}(k) = \\int_0^{2\\pi} E(k, \\theta) d\\theta\n",
    "$$\n",
    "\n",
    "and plot that average with the method ```graph_spectrum```"
   ]
  },
  {
   "cell_type": "code",
   "execution_count": 5,
   "metadata": {
    "collapsed": true,
    "lines_to_next_cell": 2
   },
   "outputs": [
    {
     "ename": "ModuleNotFoundError",
     "evalue": "No module named 'netCDF4'",
     "output_type": "error",
     "traceback": [
      "\u001b[0;31m---------------------------------------------------------------------------\u001b[0m",
      "\u001b[0;31mModuleNotFoundError\u001b[0m                       Traceback (most recent call last)",
      "\u001b[0;32m<ipython-input-5-1160ff0ea453>\u001b[0m in \u001b[0;36m<module>\u001b[0;34m\u001b[0m\n\u001b[0;32m----> 1\u001b[0;31m \u001b[0;32mfrom\u001b[0m \u001b[0mnetCDF4\u001b[0m \u001b[0;32mimport\u001b[0m \u001b[0mDataset\u001b[0m\u001b[0;34m\u001b[0m\u001b[0;34m\u001b[0m\u001b[0m\n\u001b[0m\u001b[1;32m      2\u001b[0m \u001b[0;32mimport\u001b[0m \u001b[0mnumpy\u001b[0m \u001b[0;32mas\u001b[0m \u001b[0mnp\u001b[0m\u001b[0;34m\u001b[0m\u001b[0;34m\u001b[0m\u001b[0m\n\u001b[1;32m      3\u001b[0m \u001b[0;32mimport\u001b[0m \u001b[0mmath\u001b[0m\u001b[0;34m\u001b[0m\u001b[0;34m\u001b[0m\u001b[0m\n\u001b[1;32m      4\u001b[0m \u001b[0;32mfrom\u001b[0m \u001b[0mnumpy\u001b[0m \u001b[0;32mimport\u001b[0m \u001b[0mfft\u001b[0m\u001b[0;34m\u001b[0m\u001b[0;34m\u001b[0m\u001b[0m\n\u001b[1;32m      5\u001b[0m \u001b[0;32mfrom\u001b[0m \u001b[0mmatplotlib\u001b[0m \u001b[0;32mimport\u001b[0m \u001b[0mpyplot\u001b[0m \u001b[0;32mas\u001b[0m \u001b[0mplt\u001b[0m\u001b[0;34m\u001b[0m\u001b[0;34m\u001b[0m\u001b[0m\n",
      "\u001b[0;31mModuleNotFoundError\u001b[0m: No module named 'netCDF4'"
     ]
    }
   ],
   "source": [
    "from netCDF4 import Dataset\n",
    "import numpy as np\n",
    "import math\n",
    "from numpy import fft\n",
    "from matplotlib import pyplot as plt\n",
    "\n",
    "\n",
    "class ubc_fft:\n",
    "\n",
    "    def __init__(self, filename, var, scale):\n",
    "        \"\"\"\n",
    "           Input filename, var=variable name, \n",
    "           scale= the size of the pixel in km\n",
    "\n",
    "           Constructer opens the netcdf file, reads the data and\n",
    "           saves the twodimensional fft\n",
    "        \"\"\"\n",
    "        with Dataset(filename,'r') as fin:\n",
    "            data = fin.variables[var][...]\n",
    "        data = data - data.mean()\n",
    "        if data.shape[0] != data.shape[1]:\n",
    "            raise ValueError('expecting square matrix')\n",
    "        self.xdim = data.shape[0]     # size of each row of the array\n",
    "        self.midpoint = int(math.floor(self.xdim/2))\n",
    "        root,suffix = filename.split('.')\n",
    "        self.filename = root\n",
    "        self.var = var\n",
    "        self.scale = float(scale)\n",
    "        self.data = data\n",
    "        self.fft_data = fft.fft2(self.data)\n",
    "    \n",
    "    def power_spectrum(self):\n",
    "        \"\"\"\n",
    "           calculate the power spectrum for the 2-dimensional field\n",
    "        \"\"\"\n",
    "        #\n",
    "        # fft_shift moves the zero frequency point to the  middle\n",
    "        # of the array  \n",
    "        #\n",
    "        fft_shift = fft.fftshift(self.fft_data)\n",
    "        spectral_dens = fft_shift*np.conjugate(fft_shift)/(self.xdim*self.xdim)\n",
    "        spectral_dens = spectral_dens.real\n",
    "        #\n",
    "        # dimensional wavenumbers for 2dim spectrum  (need only the kx\n",
    "        # dimensional since image is square\n",
    "        #\n",
    "        k_vals = np.arange(0,(self.midpoint))+1\n",
    "        k_vals = (k_vals-self.midpoint)/(self.xdim*self.scale)\n",
    "        self.spectral_dens=spectral_dens\n",
    "        self.k_vals=k_vals\n",
    "\n",
    "    def annular_avg(self,avg_binwidth):\n",
    "        \"\"\" \n",
    "         integrate the 2-d power spectrum around a series of rings \n",
    "         of radius kradial and average into a set of 1-dimensional\n",
    "         radial bins\n",
    "        \"\"\"\n",
    "        #\n",
    "        #  define the k axis which is the radius in the 2-d polar version of E\n",
    "        #\n",
    "        numbins = int(round((math.sqrt(2)*self.xdim/avg_binwidth),0)+1)\n",
    "\n",
    "        avg_spec = np.zeros(numbins,np.float64)\n",
    "        bin_count = np.zeros(numbins,np.float64)\n",
    "\n",
    "        print(\"\\t- INTEGRATING... \")\n",
    "        for i in range(self.xdim):\n",
    "            if (i%100) == 0:\n",
    "                print(\"\\t\\trow: {} completed\".format(i))\n",
    "            for j in range(self.xdim):\n",
    "                kradial = math.sqrt(((i+1)-self.xdim/2)**2+((j+1)-self.xdim/2)**2)\n",
    "                bin_num = int(math.floor(kradial/avg_binwidth))\n",
    "                avg_spec[bin_num]=avg_spec[bin_num]+ kradial*self.spectral_dens[i,j]\n",
    "                bin_count[bin_num]+=1\n",
    "\n",
    "        for i in range(numbins):\n",
    "            if bin_count[i]>0:\n",
    "                avg_spec[i]=avg_spec[i]*avg_binwidth/bin_count[i]/(4*(math.pi**2))\n",
    "        self.avg_spec=avg_spec\n",
    "        #\n",
    "        # dimensional wavenumbers for 1-d average spectrum\n",
    "        #\n",
    "        self.k_bins=np.arange(numbins)+1\n",
    "        self.k_bins = self.k_bins[0:self.midpoint]\n",
    "        self.avg_spec = self.avg_spec[0:self.midpoint]\n",
    "\n",
    "        \n",
    "    \n",
    "    def graph_spectrum(self, kol_slope=-5./3., kol_offset=1., \\\n",
    "                      title=None):\n",
    "        \"\"\"\n",
    "           graph the annular average and compare it to Kolmogorov -5/3\n",
    "        \"\"\"\n",
    "        avg_spec=self.avg_spec\n",
    "        delta_k = 1./self.scale                # 1./km (1/0.025 for landsat 25 meter pixels)\n",
    "        nyquist = delta_k * 0.5\n",
    "        knum = self.k_bins * (nyquist/float(len(self.k_bins)))# k = w/(25m)\n",
    "        #\n",
    "        # draw the -5/3 line through a give spot\n",
    "        #\n",
    "        kol = kol_offset*(knum**kol_slope)\n",
    "        fig,ax=plt.subplots(1,1,figsize=(8,8))\n",
    "        ax.loglog(knum,avg_spec,'r-',label='power')\n",
    "        ax.loglog(knum,kol,'k-',label=\"$k^{-5/3}$\")\n",
    "        ax.set(title=title,xlabel='k (1/km)',ylabel='$E_k$')\n",
    "        ax.legend()\n",
    "        self.plotax=ax"
   ]
  },
  {
   "cell_type": "code",
   "execution_count": 6,
   "metadata": {},
   "outputs": [
    {
     "ename": "NameError",
     "evalue": "name 'ubc_fft' is not defined",
     "output_type": "error",
     "traceback": [
      "\u001b[0;31m---------------------------------------------------------------------------\u001b[0m",
      "\u001b[0;31mNameError\u001b[0m                                 Traceback (most recent call last)",
      "\u001b[0;32m<ipython-input-6-9db3b82f7726>\u001b[0m in \u001b[0;36m<module>\u001b[0;34m\u001b[0m\n\u001b[1;32m      1\u001b[0m \u001b[0mplt\u001b[0m\u001b[0;34m.\u001b[0m\u001b[0mclose\u001b[0m\u001b[0;34m(\u001b[0m\u001b[0;34m'all'\u001b[0m\u001b[0;34m)\u001b[0m\u001b[0;34m\u001b[0m\u001b[0;34m\u001b[0m\u001b[0m\n\u001b[1;32m      2\u001b[0m \u001b[0mplt\u001b[0m\u001b[0;34m.\u001b[0m\u001b[0mstyle\u001b[0m\u001b[0;34m.\u001b[0m\u001b[0muse\u001b[0m\u001b[0;34m(\u001b[0m\u001b[0;34m'ggplot'\u001b[0m\u001b[0;34m)\u001b[0m\u001b[0;34m\u001b[0m\u001b[0;34m\u001b[0m\u001b[0m\n\u001b[0;32m----> 3\u001b[0;31m \u001b[0moutput\u001b[0m \u001b[0;34m=\u001b[0m \u001b[0mubc_fft\u001b[0m\u001b[0;34m(\u001b[0m\u001b[0;34m'a17.nc'\u001b[0m\u001b[0;34m,\u001b[0m\u001b[0;34m'tau'\u001b[0m\u001b[0;34m,\u001b[0m\u001b[0;36m0.025\u001b[0m\u001b[0;34m)\u001b[0m\u001b[0;34m\u001b[0m\u001b[0;34m\u001b[0m\u001b[0m\n\u001b[0m\u001b[1;32m      4\u001b[0m \u001b[0moutput\u001b[0m\u001b[0;34m.\u001b[0m\u001b[0mpower_spectrum\u001b[0m\u001b[0;34m(\u001b[0m\u001b[0;34m)\u001b[0m\u001b[0;34m\u001b[0m\u001b[0;34m\u001b[0m\u001b[0m\n",
      "\u001b[0;31mNameError\u001b[0m: name 'ubc_fft' is not defined"
     ]
    }
   ],
   "source": [
    "plt.close('all')\n",
    "plt.style.use('ggplot')\n",
    "output = ubc_fft('a17.nc','tau',0.025)\n",
    "output.power_spectrum()"
   ]
  },
  {
   "cell_type": "code",
   "execution_count": 7,
   "metadata": {},
   "outputs": [
    {
     "ename": "NameError",
     "evalue": "name 'np' is not defined",
     "output_type": "error",
     "traceback": [
      "\u001b[0;31m---------------------------------------------------------------------------\u001b[0m",
      "\u001b[0;31mNameError\u001b[0m                                 Traceback (most recent call last)",
      "\u001b[0;32m<ipython-input-7-1c455b045451>\u001b[0m in \u001b[0;36m<module>\u001b[0;34m\u001b[0m\n\u001b[1;32m      1\u001b[0m \u001b[0mfig\u001b[0m\u001b[0;34m,\u001b[0m\u001b[0max\u001b[0m\u001b[0;34m=\u001b[0m\u001b[0mplt\u001b[0m\u001b[0;34m.\u001b[0m\u001b[0msubplots\u001b[0m\u001b[0;34m(\u001b[0m\u001b[0;36m1\u001b[0m\u001b[0;34m,\u001b[0m\u001b[0;36m1\u001b[0m\u001b[0;34m,\u001b[0m\u001b[0mfigsize\u001b[0m\u001b[0;34m=\u001b[0m\u001b[0;34m(\u001b[0m\u001b[0;36m7\u001b[0m\u001b[0;34m,\u001b[0m\u001b[0;36m7\u001b[0m\u001b[0;34m)\u001b[0m\u001b[0;34m)\u001b[0m\u001b[0;34m\u001b[0m\u001b[0;34m\u001b[0m\u001b[0m\n\u001b[1;32m      2\u001b[0m \u001b[0max\u001b[0m\u001b[0;34m.\u001b[0m\u001b[0mset_title\u001b[0m\u001b[0;34m(\u001b[0m\u001b[0;34m'landsat a17'\u001b[0m\u001b[0;34m)\u001b[0m\u001b[0;34m\u001b[0m\u001b[0;34m\u001b[0m\u001b[0m\n\u001b[0;32m----> 3\u001b[0;31m \u001b[0mim0\u001b[0m\u001b[0;34m=\u001b[0m\u001b[0max\u001b[0m\u001b[0;34m.\u001b[0m\u001b[0mimshow\u001b[0m\u001b[0;34m(\u001b[0m\u001b[0mnp\u001b[0m\u001b[0;34m.\u001b[0m\u001b[0mlog10\u001b[0m\u001b[0;34m(\u001b[0m\u001b[0moutput\u001b[0m\u001b[0;34m.\u001b[0m\u001b[0mspectral_dens\u001b[0m\u001b[0;34m)\u001b[0m\u001b[0;34m)\u001b[0m\u001b[0;34m\u001b[0m\u001b[0;34m\u001b[0m\u001b[0m\n\u001b[0m\u001b[1;32m      4\u001b[0m \u001b[0max\u001b[0m\u001b[0;34m.\u001b[0m\u001b[0mset_title\u001b[0m\u001b[0;34m(\u001b[0m\u001b[0;34m'log10 of the 2-d power spectrum'\u001b[0m\u001b[0;34m)\u001b[0m\u001b[0;34m\u001b[0m\u001b[0;34m\u001b[0m\u001b[0m\n\u001b[1;32m      5\u001b[0m \u001b[0mdivider\u001b[0m \u001b[0;34m=\u001b[0m \u001b[0mmake_axes_locatable\u001b[0m\u001b[0;34m(\u001b[0m\u001b[0max\u001b[0m\u001b[0;34m)\u001b[0m\u001b[0;34m\u001b[0m\u001b[0;34m\u001b[0m\u001b[0m\n",
      "\u001b[0;31mNameError\u001b[0m: name 'np' is not defined"
     ]
    },
    {
     "data": {
      "image/png": "[encoded data removed]",
      "text/plain": [
       "<Figure size 504x504 with 1 Axes>"
      ]
     },
     "metadata": {},
     "output_type": "display_data"
    }
   ],
   "source": [
    "fig,ax=plt.subplots(1,1,figsize=(7,7))\n",
    "ax.set_title('landsat a17')\n",
    "im0=ax.imshow(np.log10(output.spectral_dens))\n",
    "ax.set_title('log10 of the 2-d power spectrum')\n",
    "divider = make_axes_locatable(ax)\n",
    "cax = divider.append_axes(\"bottom\", size=\"5%\", pad=0.35)\n",
    "out=fig.colorbar(im0,orientation='horizontal',cax=cax)"
   ]
  },
  {
   "cell_type": "code",
   "execution_count": 8,
   "metadata": {},
   "outputs": [
    {
     "ename": "NameError",
     "evalue": "name 'output' is not defined",
     "output_type": "error",
     "traceback": [
      "\u001b[0;31m---------------------------------------------------------------------------\u001b[0m",
      "\u001b[0;31mNameError\u001b[0m                                 Traceback (most recent call last)",
      "\u001b[0;32m<ipython-input-8-195506f4bc01>\u001b[0m in \u001b[0;36m<module>\u001b[0;34m\u001b[0m\n\u001b[1;32m      1\u001b[0m \u001b[0mavg_binwidth\u001b[0m\u001b[0;34m=\u001b[0m\u001b[0;36m5\u001b[0m  \u001b[0;31m#make the kradial bins 5 pixels wide\u001b[0m\u001b[0;34m\u001b[0m\u001b[0;34m\u001b[0m\u001b[0m\n\u001b[0;32m----> 2\u001b[0;31m \u001b[0moutput\u001b[0m\u001b[0;34m.\u001b[0m\u001b[0mannular_avg\u001b[0m\u001b[0;34m(\u001b[0m\u001b[0mavg_binwidth\u001b[0m\u001b[0;34m)\u001b[0m\u001b[0;34m\u001b[0m\u001b[0;34m\u001b[0m\u001b[0m\n\u001b[0m",
      "\u001b[0;31mNameError\u001b[0m: name 'output' is not defined"
     ]
    }
   ],
   "source": [
    "avg_binwidth=5  #make the kradial bins 5 pixels wide\n",
    "output.annular_avg(avg_binwidth)"
   ]
  },
  {
   "cell_type": "code",
   "execution_count": 9,
   "metadata": {},
   "outputs": [
    {
     "ename": "NameError",
     "evalue": "name 'output' is not defined",
     "output_type": "error",
     "traceback": [
      "\u001b[0;31m---------------------------------------------------------------------------\u001b[0m",
      "\u001b[0;31mNameError\u001b[0m                                 Traceback (most recent call last)",
      "\u001b[0;32m<ipython-input-9-7432139d473b>\u001b[0m in \u001b[0;36m<module>\u001b[0;34m\u001b[0m\n\u001b[0;32m----> 1\u001b[0;31m \u001b[0moutput\u001b[0m\u001b[0;34m.\u001b[0m\u001b[0mgraph_spectrum\u001b[0m\u001b[0;34m(\u001b[0m\u001b[0mkol_offset\u001b[0m\u001b[0;34m=\u001b[0m\u001b[0;36m2000.\u001b[0m\u001b[0;34m,\u001b[0m\u001b[0mtitle\u001b[0m\u001b[0;34m=\u001b[0m\u001b[0;34m'Landsat {} power spectrum'\u001b[0m\u001b[0;34m.\u001b[0m\u001b[0mformat\u001b[0m\u001b[0;34m(\u001b[0m\u001b[0moutput\u001b[0m\u001b[0;34m.\u001b[0m\u001b[0mfilename\u001b[0m\u001b[0;34m)\u001b[0m\u001b[0;34m)\u001b[0m\u001b[0;34m\u001b[0m\u001b[0;34m\u001b[0m\u001b[0m\n\u001b[0m",
      "\u001b[0;31mNameError\u001b[0m: name 'output' is not defined"
     ]
    }
   ],
   "source": [
    "output.graph_spectrum(kol_offset=2000.,title='Landsat {} power spectrum'.format(output.filename))"
   ]
  },
  {
   "cell_type": "markdown",
   "metadata": {
    "collapsed": true
   },
   "source": [
    "# Problem -- lowpass filtering of a 2-d image\n",
    "\n",
    "For the image above, \n",
    "we know that the 25 meter pixels correspond to k=1/0.025 = 40 $km^{-1}$.  That means that the Nyquist\n",
    "wavenumber is k=20 $km^{-1}$.  Using that information, design a filter that removes all wavenumbers\n",
    "higher than 1 $km^{-1}$.   \n",
    "\n",
    "1) Use that filter to zero those values in the fft, then inverse transform and\n",
    "plot the low-pass filtered image.\n",
    "\n",
    "2) Take the 1-d fft of the image and repeat the plot of the power spectrum to show that there is no power in wavenumbers higher than 1 $km^{-1}$.\n",
    "\n",
    "(Hint -- I used the fftshift function to put the low wavenumber cells in the center of the fft, which made it simpler to zero the outer cells.  I then used ifftshift to reverse shift before inverse transforming to get the filtered\n",
    "image.)\n",
    "\n"
   ]
  },
  {
   "cell_type": "code",
   "execution_count": null,
   "metadata": {},
   "outputs": [],
   "source": []
  }
 ],
 "metadata": {
  "jupytext": {
   "formats": "ipynb,py:percent",
   "notebook_metadata_filter": "all,-language_info,-toc,-latex_envs"
  },
  "kernelspec": {
   "display_name": "Python 3",
   "language": "python",
   "name": "python3"
  },
  "language_info": {
   "codemirror_mode": {
    "name": "ipython",
    "version": 3
   },
   "file_extension": ".py",
   "mimetype": "text/x-python",
   "name": "python",
   "nbconvert_exporter": "python",
   "pygments_lexer": "ipython3",
   "version": "3.7.6"
  },
  "toc": {
   "nav_menu": {},
   "number_sections": true,
   "sideBar": false,
   "skip_h1_title": false,
   "toc_cell": true,
   "toc_position": {},
   "toc_section_display": "block",
   "toc_window_display": false
  }
 },
 "nbformat": 4,
 "nbformat_minor": 2
}
