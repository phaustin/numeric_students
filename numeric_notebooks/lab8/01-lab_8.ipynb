{
 "cells": [
  {
   "cell_type": "markdown",
   "metadata": {},
   "source": [
    "# Laboratory 8:  Solution of the Quasi-geostrophic Equations \n",
    "\n",
    " Lin Yang & John M. Stockie \n"
   ]
  },
  {
   "cell_type": "markdown",
   "metadata": {},
   "source": [
    "## List of Problems ##\n",
    "\n",
    "- [Problem 1:](#Problem-One) Discretization of the Jacobian term\n",
    "- [Problem 2:](#Problem-Two) Numerical instability in the “straightforward” Jacobian \n",
    "- [Problem 3:](#Problem-Three) Implement the SOR relaxation\n",
    "- [Problem 4:](#Problem-Four) No-slip boundary conditions\n",
    "- [Problem 5:](#Problem-Five) Starting values for the time integration\n",
    "- [Problem 6:](#Problem-Six) Duplication of classical results"
   ]
  },
  {
   "cell_type": "markdown",
   "metadata": {},
   "source": [
    "## Objectives ##\n",
    "\n",
    "This lab is an introduction to the use of implicit schemes for the\n",
    "solution of PDE’s, using as an example the quasi-geostrophic equations\n",
    "that govern the large-scale circulation of the oceans.\n",
    "\n",
    "You will see that the discretization of the governing equations leads to\n",
    "a large, sparse system of linear equations. The resulting matrix problem\n",
    "is solved with relaxation methods, one of which you will write the code\n",
    "for, by modifying the simpler Jacobi relaxation. There are two types of\n",
    "boundary conditions typically used for this problem, one of which you\n",
    "will program yourself – your computations are easily compared to\n",
    "previously-obtained “classical” results."
   ]
  },
  {
   "cell_type": "markdown",
   "metadata": {},
   "source": [
    "## Readings\n",
    "There are no required readings for this lab. If you would like some\n",
    "additional background beyond the material in the lab itself, then you\n",
    "may refer to the references listed below:\n",
    "\n",
    "-   **Equations of motion:**\n",
    "\n",
    "    -   [Pedlosky](#Ref:Pedlosky) Sections 4.6 & 4.11 (derivation of QG\n",
    "        equations)\n",
    "\n",
    "-   **Nonlinear instability:**\n",
    "\n",
    "    -   [Mesinger & Arakawa](#Ref:MesingerArakawa) (classic paper with\n",
    "        description of instability and aliasing)\n",
    "\n",
    "    -   [Arakawa & Lamb](#Ref:ArakawaLamb) (non-linear instability in the QG\n",
    "        equations, with the Arakawa-Jacobian)\n",
    "\n",
    "-   **Numerical methods:**\n",
    "\n",
    "    -   [Strang](#Ref:Strang) (analysis of implicit schemes)\n",
    "\n",
    "    -   [McCalpin](#Ref:McCalpin) (QGbox model)\n",
    "\n",
    "-   **Classical numerical results:**\n",
    "\n",
    "    -   [Veronis](#Ref:Veronis) (numerical results)\n",
    "\n",
    "    -   [Bryan](#Ref:Bryan) (numerical results)\n"
   ]
  },
  {
   "cell_type": "code",
   "execution_count": 1,
   "metadata": {},
   "outputs": [
    {
     "name": "stdout",
     "output_type": "stream",
     "text": [
      "******************************\n",
      "context imported. Front of path:\n",
      "/Users/phil/repos/numeric\n",
      "back of path: /Users/phil/.ipython\n",
      "******************************\n",
      "\n",
      "through /Users/phil/repos/numeric/notebooks/lab8/context.py\n"
     ]
    }
   ],
   "source": [
    "import context\n",
    "from IPython.display import Image\n",
    "# import the quiz script\n",
    "from numlabs.lab8 import quiz8 as quiz"
   ]
  },
  {
   "cell_type": "markdown",
   "metadata": {},
   "source": [
    "## Introduction ##\n",
    "\n",
    "An important aspect in the study of large-scale circulation in the ocean\n",
    "is the response of the ocean to wind stress. Solution of this problem\n",
    "using the full Navier-Stokes equations is quite complicated, and it is\n",
    "natural to look for some way to simplify the governing equations. A\n",
    "common simplification in many models of large-scale, wind-driven ocean\n",
    "circulation, is to assume a system that is homogeneous and barotropic.\n",
    "\n",
    "It is now natural to ask:\n",
    "\n",
    "> *Does the simplified model capture the important dynamics in the\n",
    "> real ocean?*\n",
    "\n",
    "This question can be investigated by solving the equations numerically,\n",
    "and comparing the results to observations in the real ocean. Many\n",
    "numerical results are already available, and so the purpose of this lab\n",
    "is to introduce you to the numerical methods used to solve this problem,\n",
    "and to compare the computed results to those from some classical papers\n",
    "on numerical ocean simulations.\n",
    "\n",
    "Some of the numerical details (in Sections [Right Hand Side](#Right-Hand-Side), [Boundary Conditions](#Boundary-Conditions), [Matrix Form of Discrete Equations](#Matrix-Form-of-the-Discrete-Equations), [Solution of the Poisson Equation by Relaxation](#Solution-of-the-Poisson-Equation-by-Relaxation)\n",
    "and the\n",
    "appendices) are quite technical, and may be passed over the first time\n",
    "you read through the lab. You can get a general idea of the basic\n",
    "solution procedure without them. However, you should return to them\n",
    "later and understand the material contained in them, since these\n",
    "sections contain techniques that are commonly encountered when solving\n",
    "PDE’s, and an understanding of these sections is required for you to\n",
    "answer the problems in the Lab.\n"
   ]
  },
  {
   "cell_type": "markdown",
   "metadata": {},
   "source": [
    "## The Quasi-Geostrophic Model ##\n",
    "\n",
    "Consider a rectangular ocean with a flat bottom, as pictured in\n",
    "[Figure Model Ocean](#Figure-Model-Ocean), and ignore curvature effects, by confining the region of interest to a *mid-latitude $\\beta$-plane*."
   ]
  },
  {
   "cell_type": "code",
   "execution_count": 2,
   "metadata": {},
   "outputs": [
    {
     "data": {
      "image/png": "[encoded data removed]",
      "text/plain": [
       "<IPython.core.display.Image object>"
      ]
     },
     "execution_count": 2,
     "metadata": {
      "image/png": {
       "width": "45%"
      }
     },
     "output_type": "execute_result"
    }
   ],
   "source": [
    "Image(filename='images/rect.png',width='45%') "
   ]
  },
  {
   "cell_type": "markdown",
   "metadata": {},
   "source": [
    "<div id='Figure-Model-Ocean'>\n",
    "**Figure Model Ocean.** The rectangular ocean with flat bottom, ignoring curvature\n",
    "effects.\n",
    "</div>\n",
    "\n",
    "More information on what is a $\\beta$-plane and on the neglect of\n",
    "curvature terms in the $\\beta$-plane approximation is given in the\n",
    "appendix.\n",
    "\n",
    "If we assume that the ocean is homogeneous (it has constant density\n",
    "throughout), then the equations governing the fluid motion on the\n",
    "$\\beta$-plane are: \n",
    "\n",
    "<div id=\"eq:xmom\">(X-Momentum Eqn)</div>\n",
    "\n",
    "\\begin{equation}\n",
    "\\frac{\\partial u}{\\partial t} + u \\frac {\\partial u}{\\partial x} + v \\frac {\\partial u}{\\partial y} + w \\frac{\\partial u}{\\partial z} - fv = - \\, \\frac{1}{\\rho} \\, \\frac {\\partial p}{\\partial x}\n",
    "+ A_v \\, \\frac{\\partial^2 u}{\\partial z^2} + A_h \\, \\nabla^2 u\n",
    "\\end{equation}\n",
    "\n",
    "<div id=\"eq:ymom\">(Y-Momentum Eqn)</div>\n",
    "\n",
    "\\begin{equation}\n",
    "\\frac{\\partial v}{\\partial t} + u \\frac{\\partial v}{\\partial x} + v \\frac{\\partial v}{\\partial y} + w \\frac{\\partial v}{\\partial z} + fu = - \\, \\frac{1}{\\rho} \\, \\frac{\\partial p}{\\partial y}\n",
    "+ A_v \\, \\frac{\\partial^2 v}{\\partial z^2} + A_h \\, \\nabla^2 v\n",
    "\\end{equation}\n",
    "\n",
    "<div id=\"eq:hydrostatic\">(Hydrostatic Eqn)</div>\n",
    "\n",
    "\\begin{equation}\n",
    "\\frac{\\partial p}{\\partial z} = - \\rho g\n",
    "\\end{equation}\n",
    "\n",
    "<div id=\"eq:continuity\">(Continuity Eqn)</div>\n",
    "\n",
    "\\begin{equation}\n",
    "\\frac {\\partial u}{\\partial x} + \\frac{\\partial v}{\\partial y} = - \\, \\frac{\\partial w}{\\partial z}\n",
    "\\end{equation}\n",
    "\n",
    "where\n",
    "\n",
    "-   ([X-Momentum Eqn](#eq:xmom)) and ([Y-Momentum Eqn](#eq:ymom)) are the lateral momentum equations,\n",
    "\n",
    "-   ([Hydrostatic Eqn](#eq:hydrostatic)) is the hydrostatic balance (and replaces the vertical momentum\n",
    "    equation), and\n",
    "\n",
    "-   ([Continuity Eqn](#eq:continuity)) is the continuity (or incompressibility or conservation of volume) condition.\n",
    "\n",
    "The variables and parameters appearing above are:\n",
    "\n",
    "-   $(u,v,w)$, the fluid velocity components;\n",
    "\n",
    "-   $f(y)$, the Coriolis parameter (assumed to be a linear function of\n",
    "    $y$);\n",
    "\n",
    "-   $\\rho$, the density (assumed constant for a homogeneous fluid);\n",
    "\n",
    "-   $A_v$ and $A_h$, the vertical and horizontal coefficients of\n",
    "    viscosity, respectively (constants);\n",
    "\n",
    "-   $g$, the gravitational acceleration (constant).\n",
    "\n",
    "Equations ([X-Momentum Eqn](#eq:xmom)), ([Y-Momentum Eqn](#eq:ymom)), ([Hydrostatic Eqn](#eq:hydrostatic)) and ([Continuity Eqn](#eq:continuity)) form a non-linear system of PDE’s, for which there are many\n",
    "numerical methods available. However, due to the complexity of the\n",
    "equations, the methods themselves are *very complex*, and\n",
    "consume a large amount of CPU time. It is therefore advantageous for us\n",
    "to reduce the equations to a simpler form, for which common, and more\n",
    "efficient numerical solution techniques can be used.\n"
   ]
  },
  {
   "cell_type": "markdown",
   "metadata": {},
   "source": [
    "By applying a sequence of physically-motivated approximations (see\n",
    "[Appendix Simplification of the QG Model Equations](#Simplification-of-the-QG-Model-Equations])) and by using the boundary conditions, the system([X-Momentum Eqn](#eq:xmom)), ([Y-Momentum Eqn](#eq:ymom)), ([Hydrostatic Eqn](#eq:hydrostatic)) and ([Continuity Eqn](#eq:continuity)) can be\n",
    "reduced to a single PDE: \n",
    "<div id='eq:quasi'>\n",
    "(Quasi-Geotrophic Eqn)\n",
    "$$\n",
    "  \\frac{\\partial}{\\partial t} \\, \\nabla_h^2 \\psi + {\\cal J} \\left( \\psi, \\nabla_h^2 \\psi \\right)\n",
    "  + \\beta \\, \\frac {\\partial \\psi}{\\partial x} = \\frac{1}{\\rho H} \\, \\nabla_h \\times \\tau - \\kappa\n",
    "  \\, \\nabla_h^2 \\psi + A_h \\, \\nabla_h^4 \\psi $$\n",
    "</div>  "
   ]
  },
  {
   "cell_type": "markdown",
   "metadata": {},
   "source": [
    "  where\n",
    "\n",
    "-   $\\psi$ is the stream function, defined by\n",
    "    $$u = - \\frac{\\partial \\psi}{\\partial y},$$\n",
    "    $$v = \\frac{\\partial \\psi}{\\partial x}$$\n",
    "\n",
    "-   $$\\nabla_h = \\left(\\frac{\\partial}{\\partial x},\\frac{\\partial}{\\partial y}\\right)$$ \n",
    "    is the “horizontal”\n",
    "    gradient operator, so-called because it involves only derivatives in\n",
    "    $x$ and $y$;\n",
    "\n",
    "-   $${\\cal J} (a,b) = \\frac{\\partial a}{\\partial x}  \\frac{\\partial\n",
    "    b}{\\partial y} - \\frac{\\partial a}{\\partial y} \\frac{\\partial b}{\\partial x}$$    \n",
    "    is the *Jacobian* operator;\n",
    "\n",
    "-   $\\vec{\\tau}(x,y) = \\left(\\,\\tau_1(x,y),\\tau_2(x,y)\\,\\right)$ is the\n",
    "    wind stress boundary condition at the surface $z=0$. A simple form\n",
    "    of the wind stress might assume an ocean “box” that extends from\n",
    "    near the equator to a latitude of about $60^\\circ$, for which\n",
    "    typical winds are easterly near the equator and turn westerly at\n",
    "    middle latitudes. A simple function describing this is\n",
    "    $$\\vec{\\tau} = \\tau_{max} (-\\cos y, 0),$$ \n",
    "    which is what we will use in this lab. \n",
    "    \n",
    "    More complicated wind stress functions are possible. See [McCalpin’s](#Ref:McCalpin)\n",
    "    QGBOX documentation [p. 24] for another\n",
    "    example."
   ]
  },
  {
   "cell_type": "markdown",
   "metadata": {},
   "source": [
    "-   $\\beta = df/dy$ is a constant, where $f(y) = f_0+\\beta y$ (see\n",
    "    [Appendix Definition of the Beta-plane](#Definition-of-the-Beta-plane));\n",
    "\n",
    "-   $\\kappa = {1}/{H}  \\left[ (A_v f_0)/{2} \\right]^{1/2}$ is the bottom friction scaling (constant); and\n",
    "\n",
    "-   $H$ is the vertical depth of the water column (constant).\n",
    "\n",
    "Notice that the original (second order) system of four equations in four\n",
    "unknowns ($u$, $v$, $w$, $p$) has now been reduced to a single (fourth\n",
    "order) PDE in one unknown function, $\\psi$. It will become clear in the\n",
    "next section just how much simpler the system of equations has become …\n",
    "\n",
    "Before going on, though, we need to close the system with the\n",
    "*boundary conditions* for the stream function $\\psi$. We\n",
    "must actually consider two cases, based on whether or not the lateral\n",
    "eddy viscosity parameter, $A_h$, is zero:\n",
    "\n",
    "-   **if $A_h=0$:** the boundary conditions are\n",
    "    *free-slip*; that is, $\\psi=0$ on the boundary.\n",
    "\n",
    "-   **if $A_h\\neq 0$:** the boundary conditions are\n",
    "    *no-slip*; that is both $\\psi$ and its normal\n",
    "    derivative $\\nabla\\psi\\cdot\\hat{n}$ are zero on the boundary (where\n",
    "    $\\hat{n}$ is the normal vector to the boundary)."
   ]
  },
  {
   "cell_type": "markdown",
   "metadata": {},
   "source": [
    "### Scaling the Equations of Motion ###\n",
    "\n",
    "In physical problems, it is not uncommon for some of the quantities of\n",
    "interest to differ in size by many orders of magnitude. This is of\n",
    "particular concern when computing numerical solutions to such problems,\n",
    "since then round-off errors can begin to pollute the computations (see\n",
    "Lab 2).\n",
    "\n",
    "This is also the case for the QG equations, where the parameters have a\n",
    "large variation in size. The QG model parameters, and typical numerical\n",
    "values, are given in [Table of Parameters](#tab:parameters). For such problems it is customary to *rescale* the\n",
    "variables in such a way that the size differences are minimized.\n",
    "\n",
    "\n",
    "**Problem Parameters**\n",
    "\n",
    "| Symbol       | Name                        | Range of Magnitude                            | Units              |\n",
    "| :----------: | :-------------------------: | :---------------------------------------: | :----------------: |\n",
    "|   $R$        | Earth’s radius              | $6.4 \\times 10^6$                         |  $m$               |\n",
    "|$\\Omega$      | Angular frequency for Earth | $7.27 \\times 10^{-5}$                     | $s^{-1}$           |\n",
    "|   $H$        | Depth of active layer       | $100 \\rightarrow 4000$                    |  $m$               |\n",
    "| $B$          | Length and width of ocean   | $1.0 \\rightarrow 5.0 \\times 10^6$         | $m$                |\n",
    "| $\\rho$       | Density of water            | $10^3$                                    | $kg/m^3$           |\n",
    "| $A_h$        | Lateral eddy viscosity      | $0$ or $10^1 \\rightarrow 10^4$            | $m^2/s$            |\n",
    "| $A_v$        | Vertical eddy viscosity     | $10^{-4} \\rightarrow 10^{-1}$             | $m^2/s$            |\n",
    "| $\\tau_{max}$ | Maximum wind stress         | $10^{-2} \\rightarrow 1$                   | $kg m^{-1} s^{-2}$ |\n",
    "| $\\theta_0$   | Latitude                    | $0 \\rightarrow \\frac{\\pi}{3}$             | -                  |"
   ]
  },
  {
   "cell_type": "markdown",
   "metadata": {},
   "source": [
    "**Derived Quantities**\n",
    "\n",
    "| Symbol       | Name                                          | Range of Magnitude                         | Units              |\n",
    "| :----------: | :-------------------------------------------: | :----------------------------------------: | :----------------: |\n",
    "| $\\beta$      | $\\beta =2\\Omega \\cos \\theta_0 / R$            | $1.1 \\rightarrow 2.3 \\times 10^{-11}$ | $m^{-1} s^{-1}$    |\n",
    "| $f_0$        | $f_0 = 2 \\Omega \\sin \\theta_0$                | $0.0 \\rightarrow 1.3 \\times 10^{-4}$  | $s^{-1}$           |\n",
    "| $U_0$        | Velocity scale = $\\tau_{max}/(\\beta\\rho H B)$ | $10^{-5} \\rightarrow 10^{-1}$         | $m s^{-1}$  | \n",
    "| $\\kappa$     | bottom friction parameter                     | $0.0 \\rightarrow 10^{-5}$             | $m^2 s^{-2}$  |\n",
    "\n",
    "**Non-dimensional Quantities**\n",
    "\n",
    "| Symbol / Name                                          | Range of Magnitude for Quantity              |\n",
    "| :----------------------------------------------------: | :------------------------------------------: |\n",
    "| $\\epsilon$ / Vorticity ratio = $U_0/(\\beta B^2)$       | (computed)                                   | \n",
    "| $\\frac{\\tau_{max}}{\\epsilon\\beta^2 \\rho H B^3}$        | $10^{-12} \\rightarrow 10^{-14}$              |\n",
    "| $\\frac{\\kappa}{\\beta B}$                               | $4 \\times 10^{-4} \\rightarrow 6 \\times 10^1$ |\n",
    "| $\\frac{A_h}{\\beta B^3}$                                | $10^{-7} \\rightarrow 10^{-4}$                |\n",
    "\n",
    "<div id='tab:parameters'>\n",
    "**Table of Parameters**\n",
    "</div>"
   ]
  },
  {
   "cell_type": "markdown",
   "metadata": {},
   "source": [
    "Let us go through this scaling process for the evolution\n",
    "equation [(Quasi-Geostrophic Eqn)](#eq:quasi) for the stream function, which is reproduced\n",
    "here for easy comparison:\n",
    "\n",
    "$$\\frac{\\partial}{\\partial t} \\nabla^2_h \\psi = - \\beta \\frac{\\partial \\psi}{\\partial x} - {\\cal J}(\\psi, \\nabla_h^2\\psi)+ \\frac{1}{\\rho H} \\nabla_h \\times \\vec{\\tau} - \\kappa \\nabla_h^2 \\psi + A_h \\nabla_h^4 \\psi$$ \n",
    "  \n",
    "The basic idea is to find typical\n",
    "*scales of motion*, and then redefine the dependent and\n",
    "independent variables in terms of these scales to obtain\n",
    "*dimensionless variables*.\n",
    "\n",
    "For example, the basin width and length, $B$, can be used as a scale for\n",
    "the dependent variables $x$ and $y$. Then, we define dimensionless\n",
    "variables \n",
    "<div id='eq:xscale'>\n",
    "(x-scale eqn)\n",
    "$$x^\\prime = \\frac{x}{B}$$\n",
    "</div><div id='eq:yscale'>\n",
    "(y-scale eqn)\n",
    "$$y^\\prime = \\frac{y}{B}$$\n",
    "</div>\n",
    "\n",
    "Notice that where $x$ and $y$ varied between\n",
    "0 and $B$ (where $B$ could be on the order of hundreds of kilometres),\n",
    "the new variables $x^\\prime$ and $y^\\prime$ now vary between 0 and 1\n",
    "(and so the ocean is now a unit square).\n",
    "\n",
    "Similarly, we can redefine the remaining variables in the problem as\n",
    "<div id='eq:tscale'>\n",
    "(t-scale eqn)\n",
    "$$\n",
    "  t^\\prime = \\frac{t}{\\left(\\frac{1}{\\beta B}\\right)} $$\n",
    "</div><div id='eq:psiscale'>\n",
    "($\\psi$-scale eqn)\n",
    "$$  \\psi^\\prime = \\frac{\\psi}{\\epsilon \\beta B^3} $$\n",
    "</div><div id='eq:tauscale'>\n",
    "($\\tau$-scale eqn)\n",
    "$$  \\vec{\\tau}^\\prime = \\frac{\\vec{\\tau}}{\\tau_{max}}\n",
    "  $$</div>\n",
    "\n",
    "where the scales have been\n",
    "specially chosen to represent typical sizes of the variables. Here, the\n",
    "parameter $\\epsilon$ is a measure of the the ratio between the “relative\n",
    "vorticity” ($\\max|\\nabla_h^2 \\psi|$) and the planetary vorticity (given\n",
    "by $\\beta B$)."
   ]
  },
  {
   "cell_type": "markdown",
   "metadata": {},
   "source": [
    "Now, we need only substitute for the original variables in the\n",
    "equations, and replace derivatives with their dimensionless\n",
    "counterparts; for example, using the chain rule,\n",
    "$$\\frac{\\partial}{\\partial x} = \\frac{\\partial x^\\prime}{\\partial x}\n",
    "\\frac{\\partial}{\\partial x^\\prime}.$$ Then the equation of motion\n",
    "becomes \n",
    "\n",
    "<a name='eq:qg-rescaled'></a>\n",
    "(Rescaled Quasi-Geostrophic Eqn)\n",
    "$$ \\frac{\\partial}{\\partial t^\\prime} \\nabla^{\\prime 2}_h \\psi^\\prime = - \\, \\frac{\\partial \\psi^\\prime}{\\partial x^\\prime} - \\epsilon {\\cal J^\\prime}(\\psi^\\prime, \\nabla_h^{\\prime 2}\\psi^\\prime) + \\frac{\\tau_{max}}{\\epsilon \\beta^2 \\rho H B^3} \\nabla^\\prime_h \\times \\vec{\\tau}^\\prime - \\, \\frac{\\kappa}{\\beta B} \\nabla_h^{\\prime 2} \\psi^\\prime + \\frac{A_h}{\\beta B^3} \\nabla_h^{\\prime 4} \\psi^\\prime $$ \n",
    "  The superscript\n",
    "“$\\,^\\prime$” on $\\nabla_h$ and ${\\cal J}$ signify that the derivatives\n",
    "are taken with respect to the dimensionless variables. Notice that each\n",
    "term in ([Rescaled Quasi-Geostrophic Eqn](#eq:qg-rescaled)) is now dimensionless, and that there are\n",
    "now 4 dimensionless combinations of parameters $$\\epsilon, \\;\\; \n",
    "\\frac{\\tau_{max}}{\\epsilon \\beta^2 \\rho H B^3}, \\;\\;\n",
    "\\frac{\\kappa}{\\beta B}, \\;\\; \\mbox{ and} \\;\\;\n",
    "\\frac{A_h}{\\beta B^3}.$$ These four expressions define four new\n",
    "dimensionless parameters that replace the original (unscaled) parameters\n",
    "in the problem.\n",
    "\n",
    "The terms in the equation now involve the dimensionless stream function,\n",
    "$\\psi^\\prime$, and its derivatives, which have been scaled so that they\n",
    "are now of order 1 in magnitude. The differences in sizes between terms\n",
    "in the equation are now embodied solely in the four dimensionless\n",
    "parameters. A term which is multiplied by a small parameter is thus\n",
    "truly small in comparison to the other terms, and hence additive\n",
    "round-off errors will not contribute substantially to a numerical\n",
    "solution based on this form of the equations.\n",
    "\n",
    "For the remainder of this lab, we will use the scaled version of the\n",
    "equations. Consequently, the notation will be simplified by dropping the\n",
    "“primes” on the dimensionless variables. But, **do not\n",
    "forget**, that any solution (numerical or analytical) from the\n",
    "scaled equations must be converted back into dimensional variables\n",
    "using [the scale equations](#eq:xscale)."
   ]
  },
  {
   "cell_type": "markdown",
   "metadata": {},
   "source": [
    "## Discretization of the QG equations ##\n",
    "\n",
    "At first glance, it is probably not clear how one might discretize the\n",
    "QG equation ([Rescaled Quasi-Geostrophic Eqn](#eq:qg-rescaled)) from the previous section. This equation is an evolution\n",
    "equation for $\\nabla_h^2 \\psi$ (the Laplacian of the stream function)\n",
    "but has a right hand side that depends not only on $\\nabla_h^2 \\psi$,\n",
    "but also on $\\psi$ and $\\nabla_h^4 \\psi$. The problem may be written in\n",
    "a more suggestive form, by letting $\\chi = \\partial\\psi/\\partial t$.\n",
    "Then, the ([Rescaled Quasi-Geostrophic Eqn](#eq:qg-rescaled)) becomes \n",
    "\n",
    "<a name='eq:poisson'></a>\n",
    "(Poisson Eqn)\n",
    "$$\\nabla_h^2 \\chi = F(x,y,t), \n",
    "$$\n",
    "\n",
    "where $F(x,y,t)$ contains all of the terms\n",
    "except the time derivative. We will see that the discrete version of\n",
    "this equation is easily solved for the new unknown variable $\\chi$,\n",
    "after which \n",
    "<div id='eq:dpsidt'>\n",
    "$$\\frac{\\partial\\psi}{\\partial t} = \\chi\n",
    "$$</div>\n",
    "\n",
    "may be used to evolve the stream function in\n",
    "time.\n",
    "\n",
    "The next two sections discuss the spatial and temporal discretization,\n",
    "including some details related to the right hand side, the boundary\n",
    "conditions, and the iterative scheme for solving the large sparse system\n",
    "of equations that arises from the Poisson equation for $\\chi$. Following\n",
    "that is an summary of the steps in the solution procedure.\n",
    "\n"
   ]
  },
  {
   "cell_type": "markdown",
   "metadata": {},
   "source": [
    "### Spatial Discretization\n",
    "\n",
    "Assume that we are dealing with a square ocean, with dimensions\n",
    "$1\\times 1$ (in non-dimensional coordinates) and begin by dividing the\n",
    "domain into a grid of discrete points\n",
    "$$x_i = i \\Delta x, \\;\\;i = 0, 1, 2, \\dots, M$$\n",
    "$$y_j = j \\Delta y, \\;\\;j = 0, 1, 2, \\dots, N$$ where $\\Delta x = 1/M$\n",
    "and $\\Delta y = 1/N$. In order to simplify the discrete equations, it\n",
    "will be helpful to assume that $M=N$, so that\n",
    "$\\Delta x = \\Delta y \\equiv d$. We can then look for approximate values\n",
    "of the stream function at the discrete points; that is, we look for\n",
    "$$\\Psi_{i,j} \\approx \\psi(x_i,y_j)$$ (and similarly for $\\chi_{i,j}$).\n",
    "The computational grid and placement of unknowns is pictured in\n",
    "Figure [Spatial Grid](#Spatial-Grid)."
   ]
  },
  {
   "cell_type": "code",
   "execution_count": 3,
   "metadata": {},
   "outputs": [
    {
     "data": {
      "image/png": "[encoded data removed]",
      "text/plain": [
       "<IPython.core.display.Image object>"
      ]
     },
     "execution_count": 3,
     "metadata": {
      "image/png": {
       "width": "45%"
      }
     },
     "output_type": "execute_result"
    }
   ],
   "source": [
    "Image(filename='images/spatial.png',width='45%') "
   ]
  },
  {
   "cell_type": "markdown",
   "metadata": {},
   "source": [
    "<div id='Spatial-Grid'>\n",
    "**Figure Spatial Grid**\n",
    "</div>\n",
    "\n",
    "Derivatives are replaced by their centered, second-order finite\n",
    "difference approximations \n",
    "$$\n",
    "  \\left. \\frac{\\partial \\Psi}{\\partial x} \\right|_{i,j}\n",
    "  \\approx \n",
    "  \\frac{\\Psi_{i+1,j}-\\Psi_{i-1,j}}{2d}\n",
    "  \\left. \\frac{\\partial^2 \\Psi}{\\partial x^2} \\right|_{i,j} \n",
    "  \\approx\n",
    "  \\frac{\\Psi_{i+1,j} - 2 \\Psi_{i,j} + \\Psi_{i-1,j}}{d^2}\n",
    "$$ \n",
    "and similarly for the\n",
    "$y$-derivatives. The discrete analogue of the ([Poisson equation](#eq:poisson)),\n",
    "centered at the point $(x_i,y_j)$, may be written as\n",
    "$$\\frac{\\chi_{i+1,j} - 2\\chi_{i,j} +\\chi_{i-1,j}}{d^2} + \n",
    "  \\frac{\\chi_{i,j+1} - 2\\chi_{i,j} +\\chi_{i,j-1}}{d^2}  = F_{i,j}$$ or,\n",
    "after rearranging,\n",
    "\n",
    "<a name='eq:discrete-chi'></a>\n",
    "(Discrete $\\chi$ Eqn)\n",
    "$$\\chi_{i+1,j}+\\chi_{i-1,j}+\\chi_{i,j+1}+\\chi_{i,j-1}-4\\chi_{i,j} =\n",
    "  d^2F_{i,j}.\n",
    "$$\n",
    "\n",
    "Here, we’ve used\n",
    "$F_{i,j} = F(x_i,y_j,t)$ as the values of the right hand side function\n",
    "at the discrete points, and said nothing of how to discretize $F$ (this\n",
    "will be left until [Right Hand Side](#Right-Hand-Side). The ([Discrete $\\chi$ equation](#eq:discrete-chi)) is an equation centered at the grid point $(i,j)$, and relating\n",
    "the values of the approximate solution, $\\chi_{i,j}$, at the $(i,j)$\n",
    "point, to the four neighbouring values, as described by the *5-point difference stencil* pictured in\n",
    "[Figure Stencil](#fig:stencil)."
   ]
  },
  {
   "cell_type": "code",
   "execution_count": 4,
   "metadata": {},
   "outputs": [
    {
     "data": {
      "image/png": "[encoded data removed]",
      "text/plain": [
       "<IPython.core.display.Image object>"
      ]
     },
     "execution_count": 4,
     "metadata": {
      "image/png": {
       "width": "40%"
      }
     },
     "output_type": "execute_result"
    }
   ],
   "source": [
    "Image(filename='images/2diff.png',width='40%') "
   ]
  },
  {
   "cell_type": "markdown",
   "metadata": {},
   "source": [
    "<div id='fig:stencil'>\n",
    "**Figure Stencil:**\n",
    "The standard 5-point centered difference stencil for the Laplacian\n",
    "(multiply by $\\frac{1}{d^2}$ to get the actual coefficients. </div>\n",
    "\n",
    "These stencil diagrams are a compact way of representing the information\n",
    "contained in finite difference formulas. To see how useful they are, do\n",
    "the following:\n",
    "\n",
    "-   Choose the point on the grid in [Figure Spatial Grid](#Spatial-Grid) that\n",
    "    you want to apply the difference formula ([Discrete $\\chi$ Eqn](#eq:discrete-chi)).\n",
    "\n",
    "-   Overlay the difference stencil diagram on the grid, placing the\n",
    "    center point (with value $-4$) on this point.\n",
    "\n",
    "-   The numbers in the stencil are the multiples for each of the\n",
    "    unknowns $\\chi_{i,j}$ in the difference formula.\n",
    "\n",
    "An illustration of this is given in [Figure Overlay](#fig:overlay)."
   ]
  },
  {
   "cell_type": "code",
   "execution_count": 5,
   "metadata": {},
   "outputs": [
    {
     "data": {
      "image/png": "[encoded data removed]",
      "text/plain": [
       "<IPython.core.display.Image object>"
      ]
     },
     "execution_count": 5,
     "metadata": {
      "image/png": {
       "width": "40%"
      }
     },
     "output_type": "execute_result"
    }
   ],
   "source": [
    "Image(filename='images/2diffgrid.png',width='40%') "
   ]
  },
  {
   "cell_type": "markdown",
   "metadata": {},
   "source": [
    "<div id='fig:overlay'>\n",
    "**Figure Overlay:**\n",
    "    The 5-point difference stencil overlaid on the grid.\n",
    "    </div>\n",
    "    \n",
    "Before going any further with the discretization, we need to provide a\n",
    "few more details for the discretization of the right hand side function,\n",
    "$F(x,y,t)$, and the boundary conditions. If you’d rather skip these for\n",
    "now, and move on to the time discretization\n",
    "([Section Temporal Discretization](#Temporal-Discretization))\n",
    "or the outline of the solution procedure\n",
    "([Section Outline of Solution Procedure](#Outline-of-Solution-Procedure)), then you may do so now."
   ]
  },
  {
   "cell_type": "markdown",
   "metadata": {},
   "source": [
    "#### Right Hand Side\n",
    "\n",
    "The right hand side function for the ([Poisson equation](#eq:poisson)) is reproduced here\n",
    "in scaled form (with the “primes” dropped): \n",
    "$$F(x,y,t) = - \\, \\frac{\\partial \\psi}{\\partial x} - \\epsilon {\\cal J}(\\psi,\\nabla_h^{2}\\psi) + \\frac{\\tau_{max}}{\\epsilon \\beta^2 \\rho H B^3} \\nabla_h \\times \\vec{\\tau} - \\frac{\\kappa}{\\beta B} \\nabla_h^{2} \\psi + \\frac{A_h}{\\beta B^3} \\nabla_h^{4} \\psi$$\n",
    "\n",
    "Alternatively, the Coriolis and Jacobian terms can be grouped together\n",
    "as a single term: \n",
    "$$- \\, \\frac{\\partial\\psi}{\\partial x} - \\epsilon {\\cal J}(\\psi, \\nabla^2_h\\psi) = - {\\cal J}(\\psi, y + \\epsilon \\nabla^2_h\\psi)$$\n",
    "\n",
    "Except for the Jacobian term, straightforward second-order centered\n",
    "differences will suffice for the Coriolis force\n",
    "$$\\frac{\\partial\\psi}{\\partial x} \\approx \n",
    "    \\frac{1}{2d} \\left(\\Psi_{i+1,j} - \\Psi_{i-1,j}\\right),$$ \n",
    "    the wind\n",
    "stress \n",
    "$$\\nabla_h \\times \\vec{\\tau} \\approx\n",
    "    \\frac{1}{2d} \\, \n",
    "    \\left( \\tau_{2_{i+1,j}}-\\tau_{2_{i-1,j}} - \n",
    "      \\tau_{1_{i,j+1}}+\\tau_{1_{i,j-1}} \\right),$$ and the second order\n",
    "viscosity term $$\\nabla_h^2 \\psi \\approx\n",
    "     \\frac{1}{d^2} \\left( \\Psi_{i+1,j}+\\Psi_{i-1,j}+\\Psi_{i,j+1} +\n",
    "         \\Psi_{i,j-1} - 4 \\Psi_{i,j} \\right).$$"
   ]
  },
  {
   "cell_type": "markdown",
   "metadata": {},
   "source": [
    "The higher order (biharmonic) viscosity term, $\\nabla_h^4 \\psi$, is\n",
    "slightly more complicated. The difference stencil can be derived in a\n",
    "straightforward way by splitting into $\\nabla_h^2 (\\nabla_h^2 \\psi)$ and\n",
    "applying the discrete version of the Laplacian operator twice. The\n",
    "resulting difference formula is \n",
    "<div id='eq:discrete-d4'>\n",
    "(Bi-Laplacian)\n",
    "$$ \\nabla_h^4 \\psi \n",
    "   =  \\nabla_h^2 ( \\nabla_h^2 \\psi ) $$ $$\n",
    "   \\approx  \\frac{1}{d^4} \\left( \\Psi_{i+2,j} + \\Psi_{i,j+2} +\n",
    "    \\Psi_{i-2,j} + \\Psi_{i,j-2} \\right. + \\, 2 \\Psi_{i+1,j+1} + 2 \\Psi_{i+1,j-1} + 2 \\Psi_{i-1,j+1} +\n",
    "    2 \\Psi_{i-1,j-1}\n",
    "   \\left. - 8 \\Psi_{i,j+1} - 8 \\Psi_{i-1,j} - 8 \\Psi_{i,j-1} - 8 \\, \\Psi_{i+1,j} + 20 \\Psi_{i,j} \\right)\n",
    "  $$ </div> which is pictured in the\n",
    "difference stencil in [Figure Bi-Laplacian Stencil](#fig:d4stencil)."
   ]
  },
  {
   "cell_type": "code",
   "execution_count": 6,
   "metadata": {},
   "outputs": [
    {
     "data": {
      "image/png": "[encoded data removed]",
      "text/plain": [
       "<IPython.core.display.Image object>"
      ]
     },
     "execution_count": 6,
     "metadata": {
      "image/png": {
       "width": "40%"
      }
     },
     "output_type": "execute_result"
    }
   ],
   "source": [
    "Image(filename='images/4diff.png',width='40%') "
   ]
  },
  {
   "cell_type": "markdown",
   "metadata": {},
   "source": [
    "<div id='fig:d4stencil'>\n",
    "**Figure Bi-Laplacian Stencil:**\n",
    "13-point difference stencil for the centered difference formula for\n",
    "$\\nabla_h^4$ (multiply by $\\frac{1}{d^4}$ to get the actual\n",
    "coefficients).</div>\n",
    "\n",
    "The final term is the Jacobian term, ${\\cal J}(\\psi,\n",
    "\\nabla^2_h\\psi)$ which, as you might have already guessed, is the one\n",
    "that is going to give us the most headaches. To get a feeling for why\n",
    "this might be true, go back to ([Rescaled Quasi-Geostropic Equation](#eq:qg-rescaled))  and notice that the only\n",
    "nonlinearity arises from this term. Typically, it is the nonlinearity in\n",
    "a problem that leads to difficulties in a numerical scheme. Remember the\n",
    "formula given for ${\\cal J}$ in the previous section:\n",
    "\n",
    "<a name='eq:jacob1'></a>\n",
    "(Jacobian: Expansion 1)\n",
    "$${\\cal J}(a,b) = \\frac{\\partial a}{\\partial x} \\, \\frac{\\partial b}{\\partial y} - \n",
    "  \\frac{\\partial a}{\\partial y} \\, \\frac{\\partial b}{\\partial x}\n",
    "  $$"
   ]
  },
  {
   "cell_type": "markdown",
   "metadata": {},
   "source": [
    "#### Problem One\n",
    "> Apply the standard centered difference formula\n",
    "(see Lab 1 if you need to refresh you memory) to get a difference\n",
    "approximation to the Jacobian based on ([Jacobian: Expansion 1](#eq:jacob1). You will use this later in\n",
    "[Problem Two](#Problem-Two)."
   ]
  },
  {
   "cell_type": "markdown",
   "metadata": {},
   "source": [
    "We’ve seen before that there is usually more than one way to discretize\n",
    "a given expression. This case is no different, and there are many\n",
    "possible ways to derive a discrete version of the Jacobian. Two other\n",
    "approaches are to apply centered differences to the following equivalent\n",
    "forms of the Jacobian: \n",
    "<div id='eq:jacob2'>\n",
    "(Jacobian: Expansion 2)\n",
    "$$\n",
    "  {\\cal J}(a,b) = \\frac{\\partial}{\\partial x} \\, \\left( a \\frac{\\partial b}{\\partial y} \\right) -\n",
    "    \\frac{\\partial}{\\partial y} \\left( a \\frac{\\partial b}{\\partial x} \\right)\n",
    "    $$</div>\n",
    "<div id='eq:jacob3'>\n",
    "(Jacobian: Expansion 3)\n",
    "$$\n",
    "  {\\cal J}(a,b) = \\frac{\\partial}{\\partial y} \\, \\left( b \\frac{\\partial a}{\\partial x} \\right) -\n",
    "    \\frac{\\partial}{\\partial x} \\left( b \\frac{\\partial a}{\\partial y} \\right)\n",
    "    $$\n",
    "   </div> \n",
    "    \n",
    "Each formula leads to a different discrete formula, and we will see in\n",
    "[Section Aliasing Error and Nonlinear Instability](#Aliasing-Error-and-Nonlinear-Instability)\n",
    " what effect the non-linear term has on\n",
    "the discrete approximations and how the use of the different formulas\n",
    "affect the behaviour of the numerical scheme. Before moving on, try to\n",
    "do the following two quizzes."
   ]
  },
  {
   "cell_type": "markdown",
   "metadata": {},
   "source": [
    "#### Quiz on Jacobian Expansion \\#2\n",
    "\n",
    "Using second order centered differences, what is the discretization of the second form of the Jacobian given by\n",
    "\n",
    "$$\n",
    "  {\\cal J}(a,b) = \\frac{\\partial}{\\partial x} \\, \\left( a \\frac{\\partial b}{\\partial y} \\right) -\n",
    "    \\frac{\\partial}{\\partial y} \\left( a \\frac{\\partial b}{\\partial x} \\right)\n",
    "    $$\n",
    "\n",
    "- A: $$\\frac 1 {d^2} \\left[ \\left( a_{i+1,j} - a_{i-1,j} \\right) \\left( b_{i,j+1} - b_{i,j-1} \\right) -    \\left( a_{i,j+1} - a_{i,j-1} \\right) \\left( b_{i+1,j} - b_{i-1,j} \\right) \\right]$$\n",
    "\n",
    "- B: $$\\frac 1 {4d^2} \\left[ a_{i+1,j} \\left( b_{i+1,j+1} - b_{i+1,j-1} \\right) - a_{i-1,j} \\left( b_{i-1,j+1} - b_{i-1,j-1} \\right) - a_{i,j+1} \\left( b_{i+1,j+1} - b_{i-1,j+1} \\right) + a_{i,j-1} \\left( b_{i+1,j-1} - b_{i-1,j-1} \\right) \\right]$$\n",
    "\n",
    "- C: $$\\frac 1 {d^2} \\left[ \\left( a_{i+1/2,j} - a_{i-1/2,j} \\right) \\left( b_{i,j+1/2} - b_{i,j-1/2} \\right) -    \\left( a_{i,j+1/2} - a_{i,j-1/2} \\right) \\left( b_{i+1/2,j} - b_{i-1/2,j} \\right) \\right]$$\n",
    "\n",
    "- D: $$\\frac 1 {4d^2} \\left[ b_{i+1,j} \\left( a_{i+1,j+1} - a_{i+1,j-1} \\right) - b_{i-1,j} \\left( a_{i-1,j+1} - a_{i-1,j-1} \\right) - b_{i,j+1} \\left( a_{i+1,j+1} - a_{i-1,j+1} \\right) + b_{i,j-1} \\left( a_{i+1,j-1} - a_{i-1,j-1} \\right) \\right]$$\n",
    "\n",
    "- E: $$\\frac 1 {4d^2} \\left[ a_{i+1,j+1} \\left( b_{i+1,j+1} - b_{i+1,j-1} \\right) - a_{i-1,j-1} \\left( b_{i-1,j+1} - b_{i-1,j-1} \\right) - a_{i+1,j+1} \\left( b_{i+1,j+1} - b_{i-1,j+1} \\right) + a_{i-1,j-1} \\left( b_{i+1,j-1} - b_{i-1,j-1} \\right) \\right]$$\n",
    "\n",
    "- F: $$\\frac 1 {4d^2} \\left[ \\left( a_{i+1,j} - a_{i-1,j} \\right) \\left( b_{i,j+1} - b_{i,j-1} \\right) -    \\left( a_{i,j+1} - a_{i,j-1} \\right) \\left( b_{i+1,j} - b_{i-1,j} \\right) \\right]$$\n",
    "\n",
    "- G: $$\\frac 1 {4d^2} \\left[ b_{i,j+1} \\left( a_{i+1,j+1} - a_{i-1,j+1} \\right) - b_{i,j-1} \\left( a_{i+1,j-1} - a_{i-1,j-1} \\right) - b_{i+1,j} \\left( a_{i+1,j+1} - a_{i+1,j-1} \\right) + b_{i-1,j} \\left( a_{i-1,j+1} - a_{i-1,j-1} \\right) \\right]$$\n",
    "                           \n",
    "In the following, replace 'x' by 'A', 'B', 'C', 'D', 'E', 'F', 'G', or 'Hint'"
   ]
  },
  {
   "cell_type": "code",
   "execution_count": 7,
   "metadata": {},
   "outputs": [
    {
     "name": "stdout",
     "output_type": "stream",
     "text": [
      "Acceptable answers are 'A', 'B', 'C', 'D', 'E', 'F', 'G', 'Hint'\n"
     ]
    }
   ],
   "source": [
    "print (quiz.jacobian_2(answer = 'x'))"
   ]
  },
  {
   "cell_type": "markdown",
   "metadata": {},
   "source": [
    "#### Quiz on Jacobian Expansion #3 \n",
    "\n",
    "Using second order centered differences, what is the discretization of the third form of the Jacobian given by\n",
    "\n",
    "$$\n",
    " {\\cal J}(a,b) = \\frac{\\partial}{\\partial y} \\, \\left( b \\frac{\\partial a}{\\partial x} \\right) -\n",
    "    \\frac{\\partial}{\\partial x} \\left( b \\frac{\\partial a}{\\partial y} \\right)\n",
    "    $$\n",
    "\n",
    "- A: - A: $$\\frac 1 {d^2} \\left[ \\left( a_{i+1,j} - a_{i-1,j} \\right) \\left( b_{i,j+1} - b_{i,j-1} \\right) -    \\left( a_{i,j+1} - a_{i,j-1} \\right) \\left( b_{i+1,j} - b_{i-1,j} \\right) \\right]$$\n",
    "\n",
    "- B: $$\\frac 1 {4d^2} \\left[ a_{i+1,j} \\left( b_{i+1,j+1} - b_{i+1,j-1} \\right) - a_{i-1,j} \\left( b_{i-1,j+1} - b_{i-1,j-1} \\right) - a_{i,j+1} \\left( b_{i+1,j+1} - b_{i-1,j+1} \\right) + a_{i,j-1} \\left( b_{i+1,j-1} - b_{i-1,j-1} \\right) \\right]$$\n",
    "\n",
    "- C: $$\\frac 1 {d^2} \\left[ \\left( a_{i+1/2,j} - a_{i-1/2,j} \\right) \\left( b_{i,j+1/2} - b_{i,j-1/2} \\right) -    \\left( a_{i,j+1/2} - a_{i,j-1/2} \\right) \\left( b_{i+1/2,j} - b_{i-1/2,j} \\right) \\right]$$\n",
    "\n",
    "- D: $$\\frac 1 {4d^2} \\left[ b_{i+1,j} \\left( a_{i+1,j+1} - a_{i+1,j-1} \\right) - b_{i-1,j} \\left( a_{i-1,j+1} - a_{i-1,j-1} \\right) - b_{i,j+1} \\left( a_{i+1,j+1} - a_{i-1,j+1} \\right) + b_{i,j-1} \\left( a_{i+1,j-1} - a_{i-1,j-1} \\right) \\right]$$\n",
    "\n",
    "- E: $$\\frac 1 {4d^2} \\left[ a_{i+1,j+1} \\left( b_{i+1,j+1} - b_{i+1,j-1} \\right) - a_{i-1,j-1} \\left( b_{i-1,j+1} - b_{i-1,j-1} \\right) - a_{i+1,j+1} \\left( b_{i+1,j+1} - b_{i-1,j+1} \\right) + a_{i-1,j-1} \\left( b_{i+1,j-1} - b_{i-1,j-1} \\right) \\right]$$\n",
    "\n",
    "- F: $$\\frac 1 {4d^2} \\left[ \\left( a_{i+1,j} - a_{i-1,j} \\right) \\left( b_{i,j+1} - b_{i,j-1} \\right) -    \\left( a_{i,j+1} - a_{i,j-1} \\right) \\left( b_{i+1,j} - b_{i-1,j} \\right) \\right]$$\n",
    "\n",
    "- G: $$\\frac 1 {4d^2} \\left[ b_{i,j+1} \\left( a_{i+1,j+1} - a_{i-1,j+1} \\right) - b_{i,j-1} \\left( a_{i+1,j-1} - a_{i-1,j-1} \\right) - b_{i+1,j} \\left( a_{i+1,j+1} - a_{i+1,j-1} \\right) + b_{i-1,j} \\left( a_{i-1,j+1} - a_{i-1,j-1} \\right) \\right]$$\n",
    "                           \n",
    "In the following, replace 'x' by 'A', 'B', 'C', 'D', 'E', 'F', 'G', or 'Hint'"
   ]
  },
  {
   "cell_type": "code",
   "execution_count": 8,
   "metadata": {},
   "outputs": [
    {
     "name": "stdout",
     "output_type": "stream",
     "text": [
      "Acceptable answers are 'A', 'B', 'C', 'D', 'E', 'F', 'G', 'Hint'\n"
     ]
    }
   ],
   "source": [
    "print (quiz.jacobian_3(answer = 'x'))"
   ]
  },
  {
   "cell_type": "markdown",
   "metadata": {},
   "source": [
    "#### Boundary Conditions\n",
    "\n",
    "One question that arises immediately when applying the difference\n",
    "stencils in [Figure Stencil](#fig:stencil) and [Figure Bi-Laplacian Stencil](#fig:d4stencil)\n",
    "is\n",
    "\n",
    "> *What do we do at the boundary, where at least one of the nodes\n",
    "> of the difference stencil lies outside of the domain?*\n",
    "\n",
    "The answer to this question lies with the <span>*boundary\n",
    "conditions*</span> for $\\chi$ and $\\psi$. We already know the boundary\n",
    "conditions for $\\psi$ from [Section The Quasi-Geostrophic Model](#The-Quasi-Geostrophic-Model):\n",
    "\n",
    "Free slip:\n",
    "\n",
    ">   The free slip boundary condition, $\\psi=0$, is applied when $A_h=0$,\n",
    "    which we can differentiate with respect to time to get the identical\n",
    "    condition $\\chi=0$. In terms of the discrete unknowns, this\n",
    "    translates to the requirement that\n",
    ">    $$\\Psi_{0,j} = \\Psi_{N,j} = \\Psi_{i,0} = \\Psi_{i,N} = 0 \\;\\;\n",
    "      \\mbox{ for} \\; i,j = 0,1,\\ldots,N,$$ \n",
    "      \n",
    ">    and similarly for $\\chi$. All\n",
    "    boundary values for $\\chi$ and $\\Psi$ are known, and so we need only\n",
    "    apply the difference stencils at *interior points* (see\n",
    "    [Figure Ghost Points](#fig:ghost)). When $A_h=0$, the high-order viscosity\n",
    "    term is not present, and so the only stencil appearing in the\n",
    "    discretization is the 5-point formula (the significance of this will\n",
    "    become clear when we look at no-slip boundary conditions)."
   ]
  },
  {
   "cell_type": "code",
   "execution_count": 9,
   "metadata": {},
   "outputs": [
    {
     "data": {
      "image/png": "[encoded data removed]",
      "text/plain": [
       "<IPython.core.display.Image object>"
      ]
     },
     "execution_count": 9,
     "metadata": {
      "image/png": {
       "width": "50%"
      }
     },
     "output_type": "execute_result"
    }
   ],
   "source": [
    "Image(filename='images/ghost3.png',width='50%') "
   ]
  },
  {
   "cell_type": "markdown",
   "metadata": {},
   "source": [
    "<div id='fig:ghost'>\n",
    "**Figure Ghost Points:**\n",
    "The points on the computational grid, which are classified into\n",
    "    interior, real boundary, and ghost boundary points. The 5- and\n",
    "    13-point difference stencils, when overlaid on the grid, demonstrate\n",
    "    that only the real boundary values are needed for the free-slip\n",
    "    boundary values (when $A_h=0$), while ghost points must be\n",
    "    introduced for the no-slip conditions (when $A_h\\neq 0$, and the\n",
    "    higher order viscosity term is present).\n",
    "</div>\n",
    "\n",
    "\n",
    "No-slip:\n",
    "\n",
    ">   The no-slip conditions appear when $A_h\\neq 0$, and include the free\n",
    "    slip conditions $\\psi=\\chi=0$ (which we already discussed above),\n",
    "    and the normal derivative condition $\\nabla\\psi\\cdot\\hat{n}=0$,\n",
    "    which must be satisfied at all boundary points. It is clear that if\n",
    "    we apply the standard, second-order centered difference\n",
    "    approximation to the first derivative, then the difference stencil\n",
    "    extends *beyond the boundary of the domain and contains at\n",
    "    least one non-existent point! How can we get around this\n",
    "    problem?*\n",
    "\n",
    ">    The most straightforward approach (and the one we will use in this\n",
    "    Lab) is to introduce a set of *fictitious points* or\n",
    "    *ghost points*,\n",
    "    \n",
    ">    $$\\Psi_{-1,j}, \\;\\; \\Psi_{N+1,j}, \\;\\; \\Psi_{i,-1}, \\;\\; \\Psi_{i,N+1}$$\n",
    "\n",
    ">    for $i,j=0,1,2,\\ldots,N+1$, which extend one grid space outside of\n",
    "    the domain, as shown in [Figure Ghost Points](#fig:ghost). We can then\n",
    "    discretize the Neumann condition in a straightforward manner. For\n",
    "    example, consider the point $(0,1)$, pictured in\n",
    "    [Figure No Slip Boundary Condition](#fig:noslip), at which the discrete version of\n",
    "    $\\nabla\\psi\\cdot\\hat{n}=0$ is\n",
    "\n",
    ">    $$\\frac{1}{2d} ( \\Psi_{1,1} - \\Psi_{-1,1}, \\Psi_{0,2} -\n",
    "      \\Psi_{0,0} ) \\cdot (-1,0) = 0,$$ \n",
    "      \n",
    ">   (where $(-1,0)$ is the unit\n",
    "    outward normal vector), which simplifies to\n",
    "    \n",
    ">    $$\\Psi_{-1,1} = \\Psi_{1,1}.$$\n",
    "\n",
    ">   The same can be done for all the\n",
    "    remaining ghost points: the value of $\\Psi$ at at point outside the\n",
    "    boundary is given quite simply as the value at the corresponding\n",
    "    interior point reflected across the boundary.\n"
   ]
  },
  {
   "cell_type": "code",
   "execution_count": 10,
   "metadata": {},
   "outputs": [
    {
     "data": {
      "image/png": "[encoded data removed]",
      "text/plain": [
       "<IPython.core.display.Image object>"
      ]
     },
     "execution_count": 10,
     "metadata": {
      "image/png": {
       "width": "40%"
      }
     },
     "output_type": "execute_result"
    }
   ],
   "source": [
    "Image(filename='images/noslip.png',width='40%') "
   ]
  },
  {
   "cell_type": "markdown",
   "metadata": {},
   "source": [
    "<div id=\"fig:noslip\">\n",
    "**Figure No Slip Boundary Condition:**\n",
    "The discrete Neumann boundary conditions are discretized using\n",
    "    ghost points. Here, at point $(0,1)$, the unit outward normal vector\n",
    "    is $\\hat{n}=(-1,0)$, and the discrete points involved are the four\n",
    "    points circled in red. The no-slip condition simply states that\n",
    "    $\\Psi_{-1,1}$ is equal to the interior value $\\Psi_{1,1}$.\n",
    "</div>\n",
    "\n",
    "Now, remember that when $A_h\\neq 0$, the $\\nabla_h^4\\psi$ term\n",
    "    appears in the equations, which is discretized as a 13-point\n",
    "    stencil . Looking at [Figure Ghost Points](#fig:ghost), it is easy to see that\n",
    "    when the 13-point stencil is applied at points adjacent to the\n",
    "    boundary (such as $(N-1,N-1)$ in the Figure) it involves not only\n",
    "    real boundary points, but also ghost boundary points (compare this\n",
    "    to the 5-point stencil). But, as we just discovered above, the\n",
    "    presence of the ghost points in the stencil poses no difficulty,\n",
    "    since these values are known in terms of interior values of $\\Psi$\n",
    "    using the boundary conditions.\n",
    "    \n",
    "Just as there are many Runge-Kutta schemes, there are many finite difference stencils for the different derivatives.\n",
    "For example, one could use a 5-point, $\\times$-shaped stencil for $\\nabla^2\\psi$. The flexibility of\n",
    "having several second-order stencils is what makes it possible to determine an energy- and enstrophy-conserving scheme for the Jacobian which we do later.\n",
    "\n",
    "A good discussion of boundary conditions is given by [McCalpin](#Ref:McCalpin) in his\n",
    "QGBOX code documentation, on page 44."
   ]
  },
  {
   "cell_type": "markdown",
   "metadata": {},
   "source": [
    "#### Matrix Form of the Discrete Equations\n",
    "\n",
    "In order to write the discrete equations  in matrix form, we must first\n",
    "write the unknown values $\\chi_{i,j}$ in vector form. The most obvious\n",
    "way to do this is to traverse the grid (see\n",
    "[Figure Spatial Grid](#Spatial-Grid)), one row at a time, from left to right,\n",
    "leaving out the known, zero boundary values, to obtain the ordering:\n",
    "$$\n",
    "  \\vec{\\chi} =\n",
    "  \\left(\\chi_{1,1},\\chi_{2,1},\\dots,\\chi_{N-1,1},\n",
    "    \\chi_{1,2},\\chi_{2,2},\\dots,\\chi_{N-1,2}, \\dots, \\right. \n",
    " \\left.\\chi_{N-1,N-2},\n",
    "    \\chi_{1,N-1},\\chi_{2,N-1},\\dots,\\chi_{N-1,N-1}\\right)^T$$\n",
    "    \n",
    "and similarly for $\\vec{F}$. The resulting matrix (with this ordering of\n",
    "unknowns) results in a matrix of the form given in\n",
    "[Figure Matrix](#fig:matrix)."
   ]
  },
  {
   "cell_type": "code",
   "execution_count": 11,
   "metadata": {},
   "outputs": [
    {
     "data": {
      "image/png": "[encoded data removed]",
      "text/plain": [
       "<IPython.core.display.Image object>"
      ]
     },
     "execution_count": 11,
     "metadata": {
      "image/png": {
       "width": "40%"
      }
     },
     "output_type": "execute_result"
    }
   ],
   "source": [
    "Image(filename='images/matrix.png',width='40%') "
   ]
  },
  {
   "cell_type": "markdown",
   "metadata": {},
   "source": [
    "<div id='fig:matrix'>\n",
    "**Figure Matrix:** The matrix form for the discrete Laplacian. The 5 diagonals (displayed\n",
    "in blue and red) represent the non-zero values in the matrix $-$ all\n",
    "other values are zero.\n",
    "</div>\n",
    "\n",
    "The diagonals with the 1’s (pictured in red) contain some zero entries\n",
    "due to the boundary condition $u=0$. Notice how similar this matrix\n",
    "appears to the *tridiagonal matrix* in the Problems from\n",
    "Lab 3, which arose in the discretization of the second derivative in a\n",
    "boundary value problem. The only difference here is that the Laplacian\n",
    "has an additional second derivative with respect to $y$, which is what\n",
    "adds the additional diagonal entries in the matrix.\n",
    "\n",
    "Before you think about running off and using Gaussian elimination (which\n",
    "was reviewed in Lab 3), think about the size of the matrix you would\n",
    "have to solve. If $N$ is the number of grid points, then the matrix is\n",
    "size $N^2$-by-$N^2$. Consequently, Gaussian elimination will require on\n",
    "the order of $N^6$ operations to solve the matrix only once. Even for\n",
    "moderate values of $N$, this cost can be prohibitively expensive. For\n",
    "example, taking $N=101$ results in a $10000\\times 10000$ system of\n",
    "linear equations, for which Gaussian elimination will require on the\n",
    "order of $10000^3=10^{12}$ operations! As mentioned in Lab 3, direct\n",
    "methods are not appropriate for large sparse systems such as this one. A\n",
    "more appropriate choice is an iterative or *relaxation\n",
    "scheme*, which is the subject of the next section.."
   ]
  },
  {
   "cell_type": "markdown",
   "metadata": {},
   "source": [
    "### Solution of the Poisson Equation by Relaxation\n",
    "\n",
    "One thing to notice about the matrix in [Figure Matrix](#fig:matrix) is that\n",
    "it contains many zeros. Direct methods, such as Gaussian elimination\n",
    "(GE), are so inefficient for this problem because they operate on all of\n",
    "these zero entries (in fact, there are other direct methods that exploit\n",
    "the sparse nature of the matrix to reduce the operation count, but none\n",
    "are as efficient as the methods we will talk about here).\n",
    "\n",
    "However, there is another class of solution methods, called\n",
    "*iterative methods* (refer to Lab 3) which are natural\n",
    "candidates for solving such sparse problems. They can be motivated by\n",
    "the fact that since the discrete equations are only approximations of\n",
    "the PDE to begin with, *why should we bother computing an exact\n",
    "solution to an approximate problem?* Iterative methods are based\n",
    "on the notion that one sets up an iterative procedure to compute\n",
    "successive approximations to the solution $-$ approximations that get\n",
    "closer and closer to the exact solution as the iteration proceeds, but\n",
    "never actually reach the exact solution. As long as the iteration\n",
    "converges and the approximate solution gets to within some tolerance of\n",
    "the exact solution, then we are happy! The cost of a single iterative\n",
    "step is designed to depend on only the number of non-zero elements in\n",
    "the matrix, and so is considerably cheaper than a GE step. Hence, as\n",
    "long as the iteration converges in a “reasonable number” of steps, then\n",
    "the iterative scheme will outperform GE."
   ]
  },
  {
   "cell_type": "markdown",
   "metadata": {},
   "source": [
    "Iterative methods are also know as *relaxation methods*, of\n",
    "which the *Jacobi method* is the simplest. Here are the\n",
    "basic steps in the Jacobi iteration (where we’ve dropped the time\n",
    "superscript $p$ to simplify the notation):\n",
    "\n",
    "1.  Take an initial guess, $\\chi_{i,j}^{(0)}$. Let $n=0$.\n",
    "\n",
    "2.  For each grid point $(i,j)$, compute the *residual\n",
    "    vector* $$ R_{i,j}^{(n)} = F_{i,j} - \\nabla^2\\chi^{(n)}_{i,j} $$ \n",
    "    $$ = F_{i,j} - \\frac{1}{d^2} ( \\chi_{i+1,j}^{(n)} + \\chi_{i,j+1}^{(n)} + \\chi_{i-1,j}^{(n)} +\\chi_{i,j-1}^{(n)} - 4 \\chi_{i,j}^{(n)} )$$ (which is non-zero unless $\\chi_{i,j}$ is the\n",
    "    exact solution).\n",
    "\n",
    "    You should not confuse the relaxation iteration index (superscript\n",
    "    $\\,^{(n)}$) with the time index (superscript $\\,^p$). Since the\n",
    "    relaxation iteration is being performed at a single time step, we’ve\n",
    "    dropped the time superscript for now to simplify notation. Just\n",
    "    remember that all of the discrete values in the relaxation are\n",
    "    evaluated at the current time level $p$.\n",
    "\n",
    "3.  “Adjust” $\\chi_{i,j}^{(n)}$, (leaving the other neighbours\n",
    "    unchanged) so that $R_{i,j}^{(n)}=0$. That is, replace\n",
    "    $\\chi_{i,j}^{(n)}$ by whatever you need to get a zero residual. This\n",
    "    replacement turns out to be:\n",
    "    $$\\chi_{i,j}^{(n+1)} = \\chi_{i,j}^{(n)} - \\frac{d^2}{4} R_{i,j}^{(n)},$$ which defines the iteration.\n",
    "\n",
    "4.  Set $n\\leftarrow n+1$, and repeat steps 2 & 3 until the residual is\n",
    "    less than some tolerance value. In order to measure the size of the\n",
    "    residual, we use a *relative maximum norm* measure,\n",
    "    which says\n",
    "    $$d^2 \\frac{\\|R_{i,j}^{(n)}\\|_\\infty}{\\|\\chi_{i,j}^{(n)}\\|_\\infty} < TOL$$\n",
    "    where $$\\|R_{i,j}^{(n)}\\|_\\infty = \\max_{i,j} |R_{i,j}^{(n)}|$$ is\n",
    "    the *max-norm* of $R_{i,j}$, or the maximum value of\n",
    "    the residual on the grid (there are other error tolerances we could\n",
    "    use but this is one of the simplest and most effective). Using this\n",
    "    measure for the error ensures that the residual remains small\n",
    "    *relative* to the solution, $\\chi_{i,j}$. A typical\n",
    "    value of the tolerance that might be used is $TOL=10^{-4}$."
   ]
  },
  {
   "cell_type": "markdown",
   "metadata": {},
   "source": [
    "There are a few **important things** to note about the\n",
    "basic relaxation procedure outlined above\n",
    "\n",
    "-   This Jacobi method is the simplest form of relaxation. It requires\n",
    "    that you have two storage vectors, one for $\\chi_{i,j}^{(n)}$ and\n",
    "    one for $\\chi_{i,j}^{(n+1)}$.\n",
    "\n",
    "-   The relaxation can be modified by using a single vector to store the\n",
    "    $\\chi$ values. In this case, as you compute the residual vector and\n",
    "    update $\\chi$ at each point $(i,j)$, the residual involves some\n",
    "    $\\chi$ values from the previous iteration and some that have already\n",
    "    been updated. For example, if we traverse the grid by rows (that is,\n",
    "    loop over $j$ first and then $i$), then the residual is now given by\n",
    "    $$R_{i,j}^{(n)} = F_{i,j} - \\frac{1}{d^2} ( \\chi_{i+1,j}^{(n)} +\n",
    "    \\chi_{i,j+1}^{(n)} + \n",
    "    \\underbrace{\\chi_{i-1,j}^{(n+1)} +\n",
    "    \\chi_{i,j-1}^{(n+1)}}_{\\mbox{{updated already}}} - 4\n",
    "    \\chi_{i,j}^{(n)} ),$$ (where the $(i,j-1)$ and $(i-1,j)$ points\n",
    "    have already been updated), and then the solution is updated\n",
    "    $$\\chi_{i,j}^{(n+1)} = \\chi_{i,j}^{(n)} - \\frac{d^2}{4}\n",
    "    R_{i,j}^{(n)}.$$ Not only does this relaxation scheme save on\n",
    "    storage (since only one solution vector is now required), but it\n",
    "    also converges more rapidly (typically, it takes half the number of\n",
    "    iterations as Jacobi), which speeds up convergence somewhat, but\n",
    "    still leaves the cost at the same order as Jacobi, as we can see\n",
    "    from [Cost of Schemes Table](#tab:cost). This is known as the\n",
    "    *Gauss-Seidel* relaxation scheme.\n",
    "    \n",
    "-   In practice, we actually use a modification of Gauss-Seidel\n",
    "    $$\\chi_{i,j}^{(n+1)} = \\chi_{i,j}^{(n)} - \\frac{\\mu d^2}{4}\n",
    "    R_{i,j}^{(n)}$$ where $1<\\mu<2$ is the *relaxation\n",
    "    parameter*. The resulting scheme is called *successive\n",
    "    over-relaxation*, or *SOR*, and it improves\n",
    "    convergence considerably (see [Cost of Schemes Table](#tab:cost).\n",
    "\n",
    "    What happens when $0<\\mu<1$? Or $\\mu>2$? The first case is called\n",
    "    *under-relaxation*, and is useful for smoothing the\n",
    "    solution in multigrid methods. The second leads to an iteration that\n",
    "    never converges.\n",
    "\n",
    "-   *Does the iteration converge?* For the Poisson problem,\n",
    "    yes, but not in general."
   ]
  },
  {
   "cell_type": "markdown",
   "metadata": {},
   "source": [
    "-   *How fast does the iteration converge?* and *How\n",
    "    much does each iteration cost?* The answer to both of these\n",
    "    questions gives us an idea of the cost of the relaxation procedure …\n",
    "    \n",
    "    Assume we have a grid of size $N\\times N$. If we used Gaussian\n",
    "    elimination to solve this matrix system (with $N^2$ unknowns), we\n",
    "    would need to perform on the order of $N^6$ operations (you saw this\n",
    "    in Lab \\#3). One can read in any numerical linear algebra textbook\n",
    "    ([Strang 1988,](#Ref:Strang) for example), that the number of iterations\n",
    "    required for Gauss-Seidel and Jacobi is on the order of $N^3$, while\n",
    "    for SOR it reduces to $N^2$. There is another class of iterative\n",
    "    methods, called *multigrid methods*, which converge in\n",
    "    a constant number of iterations (the optimal result)\n",
    "    \n",
    "    If you look at the arithmetic operations performed in the the\n",
    "    relaxation schemes described above, it is clear that a single\n",
    "    iteration involves on the order of $N^2$ operations (a constant\n",
    "    number of multiplications for each point).\n",
    "\n",
    "    Putting this information together, the cost of each iterative scheme\n",
    "    can be compared as in [Cost of Schemes Table](#tab:cost).\n",
    " \n",
    "    \n",
    "    \n",
    "|  Method                   | Order of Cost     |\n",
    "|  :----------------------: | :---------------: |\n",
    "|  Gaussian Elimination     |   $N^6$           |\n",
    "|  Jacobi                   |   $N^5$           |\n",
    "|  Gauss-Seidel             |   $N^5$           |\n",
    "|  SOR                      |   $N^4$           |\n",
    "|  Multigrid                |   $N^2$           |\n",
    "\n",
    "<div id='tab:cost'>\n",
    "    **Cost of Schemes Table:** Cost of iterative schemes compared to direct methods.</div>\n",
    "    \n",
    "-   Multigrid methods are obviously the best, but are also\n",
    "    *extremely complicated* … we will stick to the much\n",
    "    more manageable Jacobi, Gauss-Seidel and SOR schemes.\n",
    "\n",
    "-   There are other methods (called conjugate gradient and capacitance\n",
    "    matrix methods) which improve on the relaxation methods we’ve seen.\n",
    "    These won’t be described here."
   ]
  },
  {
   "cell_type": "markdown",
   "metadata": {},
   "source": [
    "### Temporal Discretization ###\n",
    "\n",
    "Let us now turn to the time evolution equation for the stream function.\n",
    "Supposing that the initial time is $t=0$, then we can approximate the\n",
    "solution at the discrete time points $t_p = p\\Delta t$, and write the\n",
    "discrete solution as $$\\Psi_{i,j}^p \\approx \\psi(x_i,y_j,t_p).$$ Notice\n",
    "that the spatial indices appear as subscripts and the time index as a\n",
    "superscript on the discrete approximation $\\chi$.\n",
    "\n",
    "We can choose any discretization for time that we like, but for the QG\n",
    "equation, it is customary (see [Mesinger and Arakawa](#Ref:MesingerArakawa), for\n",
    "example) to use a centered time difference to approximate the derivative\n",
    "in :\n",
    "$$\\frac{\\Psi_{i,j}^{p+1} - \\Psi_{i,j}^{p-1}}{2\\Delta t} = \\chi_{i,j}^p$$\n",
    "or, after rearranging,\n",
    "\n",
    "<a name='leapfrog'></a>\n",
    "(Leapfrog Eqn)\n",
    "$$\n",
    "\\Psi_{i,j}^{p+1} = \\Psi_{i,j}^{p-1} + 2\\Delta t \\chi_{i,j}^p\n",
    "$$\n",
    "This time differencing method is called the\n",
    "*leap frog scheme*, and was introduced in Lab 7. A\n",
    "pictorial representation of this scheme is given in\n",
    "[Figure Leap-Frog Scheme](#fig:leap-frog)."
   ]
  },
  {
   "cell_type": "code",
   "execution_count": 12,
   "metadata": {},
   "outputs": [
    {
     "data": {
      "image/png": "[encoded data removed]",
      "text/plain": [
       "<IPython.core.display.Image object>"
      ]
     },
     "execution_count": 12,
     "metadata": {
      "image/png": {
       "width": "40%"
      }
     },
     "output_type": "execute_result"
    }
   ],
   "source": [
    "Image(filename='images/leapfrog.png',width='40%') "
   ]
  },
  {
   "cell_type": "markdown",
   "metadata": {},
   "source": [
    "<div id='fig:leap-frog'>\n",
    "**Figure Leap-Frog Scheme:** A pictorial representation of the “leap-frog” character of the\n",
    "time-stepping scheme. The values of $\\chi$ at even time steps are linked\n",
    "together with the odd $\\Psi$ values; likewise, values of $\\chi$ at odd\n",
    "time steps are linked to the even $\\Psi$ values.\n",
    "</div>"
   ]
  },
  {
   "cell_type": "markdown",
   "metadata": {},
   "source": [
    "There are two additional considerations related to the time\n",
    "discretization:\n",
    "\n",
    "-   The viscous terms ($\\nabla_h^2\\psi$ and $\\nabla_h^4\\psi$) are\n",
    "    evaluated at the $p-1$ time points, while all other terms in the\n",
    "    right hand side are evaluated at $p$ points. The reasoning for this\n",
    "    is described in [McCalpin’s](#Ref:McCalpin) QGBOX\n",
    "    documentation [p. 8]:\n",
    "\n",
    "    > Note that the frictional terms are all calculated at the old\n",
    "    $(n-1)$ time level, and are therefore first-order accurate in\n",
    "    time. This ’time lagging’ is necessary for linear computational\n",
    "    stability.\n",
    "\n",
    "-   This second item *will not be implemented in this lab or the\n",
    "    problems*, but should still be kept in mind …\n",
    "\n",
    "    The leap-frog time-stepping scheme has a disadvantage in that it\n",
    "    introduces a “computational mode” …  [McCalpin](#Ref:McCalpin) [p. 23]\n",
    "    describes this as follows:\n",
    "\n",
    "    > *Leap-frog models are plagued by a phenomenon called the\n",
    "     “computational mode”, in which the odd and even time levels become\n",
    "     independent. Although a variety of sophisticated techniques have\n",
    "     been developed for dealing with this problem, McCalpin’s model\n",
    "     takes a very simplistic approach. Every *narg* time\n",
    "     steps, adjacent time levels are simply averaged together (where\n",
    "     *narg*$\\approx 100$ and odd)*\n",
    "\n",
    "    Why don’t we just abandon the leap-frog scheme? Well, [Mesinger and Arakawa](#Ref:MesingerArakawa) [p. 18] make the following observations\n",
    "    regarding the leap-frog scheme:\n",
    "\n",
    "    -   its advantages: simple and second order accurate; neutral within\n",
    "        the stability range.\n",
    "\n",
    "    -   its disadvantages: for non-linear equations, there is a tendency\n",
    "        for slow amplification of the computational mode.\n",
    "\n",
    "    -   the usual method for suppressing the spurious mode is to insert\n",
    "        a step from a two-level scheme occasionally (or, as McCalpin\n",
    "        suggests, to occasionally average the solutions at successive\n",
    "        time steps).\n",
    "\n",
    "    -   In Chapter 4, they mention that it is possible to construct\n",
    "        grids and/or schemes with the same properties as leap-frog and\n",
    "        yet the computational mode is absent.\n",
    "\n",
    "    The important thing to get from this is that when integrating for\n",
    "    long times, the computational mode will grow to the point where it\n",
    "    will pollute the solution, unless one of the above methods is\n",
    "    implemented. For simplicity, we will not be worrying about this in\n",
    "    Lab \\#8."
   ]
  },
  {
   "cell_type": "markdown",
   "metadata": {},
   "source": [
    "### Outline of Solution Procedure ###\n",
    "\n",
    "Now that we have discretized in both space and time, it is possible to\n",
    "outline the basic solution procedure.\n",
    "\n",
    "1.  Assume that at $t=t_p$, we know $\\Psi^0, \\Psi^1, \\dots,\n",
    "      \\Psi^{p-1}$\n",
    "\n",
    "2.  Calculate $F_{i,j}^p$ for each grid point $(i,j)$ (see\n",
    "    [Section Right Hand Side](#Right-Hand-Side)). Keep in mind that the viscosity terms\n",
    "    ($\\nabla_h^2\\psi$ and $\\nabla_h^4\\psi$) are evaluated at time level\n",
    "    $p-1$, while all other terms are evaluated at time level $p$ (this\n",
    "    was discussed in [Section Temporal Discretization](#Temporal-Discretization)).\n",
    "\n",
    "3.  Solve the ([Discrete $\\chi$ equation](#eq:discrete-chi)) for $\\chi_{i,j}^p$ (the actual\n",
    "    solution method will be described in [Section Solution of the Poisson Equation by Relaxation](#Solution-of-the-Poisson-Equation-by-Relaxation).\n",
    "\n",
    "4.  Given $\\chi_{i,j}^p$, we can find $\\Psi_{i,j}^{p+1}$ by using the\n",
    "    ([Leap-frog time stepping scheme](#leapfrog))\n",
    "\n",
    "5.  Let $p \\leftarrow p+1$ and return to step 2."
   ]
  },
  {
   "cell_type": "markdown",
   "metadata": {},
   "source": [
    "Notice that step 1 requires a knowledge of two starting values, $\\Psi^0$\n",
    "and $\\Psi^1$, at the initial time. An important addition to the\n",
    "procedure below is some way to get two starting values for $\\Psi$. Here\n",
    "are several alternatives:\n",
    "\n",
    "-   Set $\\Psi^0$ and $\\Psi^1$ both to zero.\n",
    "\n",
    "-   Set $\\Psi^0=0$, and then use a forward Euler step to find $\\Psi^1$.\n",
    "\n",
    "-   Use a predictor-corrector step, like that employed in Lab 7.\n",
    "\n",
    "### Problem Two\n",
    "> Now that you’ve seen how the basic\n",
    "numerical scheme works, it’s time to jump into the numerical scheme. The\n",
    "code has already been written for the discretization described above,\n",
    "with free-slip boundary conditions and the SOR relaxation scheme. The\n",
    "code is in **qg.py** and the various functions are:\n",
    "\n",
    ">**main**\n",
    ":   the main routine, contains the time-stepping and the output.\n",
    "\n",
    ">**param()**\n",
    ":   sets the physical parameters of the system.\n",
    "\n",
    ">**numer\\_init()**\n",
    ":   sets the numerical parameters.\n",
    "\n",
    ">**vis(psi, nx, ny)**\n",
    ":   calculates the second order ($\\nabla^2$) viscosity term (not\n",
    "    leap-frogged).\n",
    "\n",
    ">**wind(psi, nx, ny)**\n",
    ":   calculates the the wind term.\n",
    "\n",
    ">**mybeta(psi, nx, ny)**\n",
    ":   calculates the beta term\n",
    "\n",
    ">**jac(psi, vis, nx, ny)**\n",
    ":   calculate the Jacobian term. (Arakawa Jacobian given here).\n",
    "\n",
    ">**chi(psi, vis_curr, vis_prev, chi_prev, nx, ny, dx, r_coeff, tol, max_count, epsilon, wind_par, vis_par)**\n",
    ":   calculates $\\chi$ using a call to relax\n",
    "\n",
    ">**relax(rhs, chi_prev, dx, nx, ny, r_coeff, tol, max_count)**\n",
    ":   does the relaxation.\n",
    "\n",
    "\n"
   ]
  },
  {
   "cell_type": "markdown",
   "metadata": {},
   "source": [
    "> Your task in this problem is to program the “straightforward”\n",
    "discretization of the Jacobian term, using [(Jacobian: Expansion 1)](#eq:jacob1), that you derived in\n",
    "[Problem One](#Problem-One). The only change this involves is\n",
    "inserting the code into the function **jac**. Once\n",
    "finished, run the code. The parameter functions **param**\n",
    "**init\\_numer** provide some sample parameter values for you to\n",
    "execute the code with. Try these input values and observe what happens\n",
    "in the solution. Choose one of the physical parameters to vary. Does\n",
    "changing the parameter have any effect on the solution? in what way?\n",
    "\n",
    "> Hand in the code for the Jacobian, and a couple of plots demonstrating\n",
    "the solution as a function of parameter variation. Describe your results\n",
    "and make sure to provide parameter values to accompany your explanations\n",
    "and plots.\n",
    "\n",
    ">If the solution is unstable, check your CFL condition. The relevant\n",
    "waves are Rossby waves with wave speed: $$c=\\beta k^{-2}$$ where $k$ is\n",
    "the wave-number. The maximum wave speed is for the longest wave,\n",
    "$k=\\pi/b$ where $b$ is the size fo your domain.\n",
    "\n",
    "> If the code is still unstable, even though the CFL is satisfied, see\n",
    "[Section Aliasing Error and Nonlinear Instability](#Aliasing-Error-and-Nonlinear-Instability). The solution is nonlinear unstable.\n",
    "Switch to the Arakawa Jacobian for stability."
   ]
  },
  {
   "cell_type": "markdown",
   "metadata": {},
   "source": [
    "### Problem Three\n",
    ">The code provided for [Problem Two](#Problem-Two) implements the SOR relaxation\n",
    "scheme. Your job in this problem is to modify the relaxation code to\n",
    "perform a Jacobi iteration.\n",
    "\n",
    ">Hand in a comparison of the two methods, in tabular form. Use two\n",
    "different relaxation parameters for the SOR scheme. (Include a list of\n",
    "the physical and numerical parameter you are using). Also submit your\n",
    "code for the Jacobi relaxation scheme."
   ]
  },
  {
   "cell_type": "markdown",
   "metadata": {},
   "source": [
    "### Problem Four\n",
    "> Modify the code to implement the no-slip boundary\n",
    "conditions."
   ]
  },
  {
   "cell_type": "markdown",
   "metadata": {},
   "source": [
    "### Problem Five\n",
    ">The code you’ve been working with so far uses the\n",
    "simplest possible type of starting values for the unknown stream\n",
    "function: both are set to zero. If you’re keen to play around with the\n",
    "code, you might want to try modifying the SOR code for the two other\n",
    "methods of computing starting values: using a forward Euler step, or a\n",
    "predictor-corrector step (see [Section Outline of Solution Procedure](#Outline-of-Solution-Procedure))."
   ]
  },
  {
   "cell_type": "markdown",
   "metadata": {},
   "source": [
    "## Aliasing Error and Nonlinear Instability\n",
    "\n",
    "In [Problem Two](#Problem-Two), you encountered an example\n",
    "of the instability that can occur when computing numerical solutions to\n",
    "some *nonlinear problems*, of which the QG equations is\n",
    "just one example. This effect has in fact been known for quite some\n",
    "time. Early numerical experiments by [N. Phillips in 1956](#Ref:Phillips)\n",
    "exploded after approximately 30 days of integration due to nonlinear\n",
    "instability. He used the straightforward centered difference formula for\n",
    "as you did.\n",
    "\n",
    "It is important to realize that this instability does not occur in the\n",
    "physical system modeled by the equations of motion. Rather is an\n",
    "artifact of the discretization process, something known as\n",
    "*aliasing error*. Aliasing error can be best understood by\n",
    "thinking in terms of decomposing the solution into modes. In brief,\n",
    "aliasing error arises in non-linear problems when a numerical scheme\n",
    "amplifies the high-wavenumber modes in the solution, which corresponds\n",
    "physically to a spurious addition of energy into the system. Regardless\n",
    "of how much the grid spacing is reduced, the resulting computation will\n",
    "be corrupted, since a significant amount of energy is present in the\n",
    "smallest resolvable scales of motion. This doesn’t happen for every\n",
    "non-linear problem or every difference scheme, but is an issue that one\n",
    "who is using numerical codes must be aware of."
   ]
  },
  {
   "cell_type": "markdown",
   "metadata": {},
   "source": [
    "### Example One ###\n",
    "\n",
    ">Before moving on to how we can handle the\n",
    "instability in our discretization of the QG equations, you should try\n",
    "out the following demo on aliasing error. It is taken from an example in\n",
    "[Mesinger and Arakawa](#Ref:MesingerArakawa) [p. 35ff.], based on the simplest\n",
    "of non-linear PDE’s, the advection equation:\n",
    "$$\\frac{du}{dt}+u\\frac{du}{dx} = 0.$$ If we decompose the solution into\n",
    "Fourier mode, and consider a single mode with wavenumber $k$,\n",
    "$$u(x) = \\sin{kx}$$ then the solution will contain additional modes, due\n",
    "to the non-linear term, and given by\n",
    "$$u \\frac{du}{dx} = k \\sin{kx} \\cos{kx} =\\frac{1}{2}k \\sin{2kx}.$$\n",
    "\n",
    ">With this as an introduction, keep the following in mind while going\n",
    "through the demo:\n",
    "\n",
    ">-   on a computational grid with spacing $\\Delta x$, the discrete\n",
    "    versions of the modes can only be resolved up to a maximum\n",
    "    wavenumber, $k_{max}=\\frac{\\pi}{\\Delta x}$.\n",
    "\n",
    ">-   even if we start with modes that are resolvable on the grid, the\n",
    "    non-linear term introduces modes with a higher wavenumber, which may\n",
    "    it not be possible to resolve. These modes, when evaluated at\n",
    "    discrete points, appear as modes with lower wavenumber; that is,\n",
    "    they are *aliased* to the lower modes (this becomes\n",
    "    evident in the demo as the wavenumber is increased …).\n",
    "\n",
    ">-   not only does aliasing occur, but for this problem, these additional\n",
    "    modes are *amplified* by a factor of $\\frac{1}{2}k$.\n",
    "    This is the source of the *aliasing error* – such\n",
    "    amplified modes will grow in time, no matter how small the time step\n",
    "    taken, and will pollute the computations."
   ]
  },
  {
   "cell_type": "markdown",
   "metadata": {},
   "source": [
    "The previous example is obviously a much simpler non-linearity than that\n",
    "of the QG equations, but the net effect is the same. The obvious\n",
    "question we might ask now is:\n",
    "\n",
    "> *Can this problem be averted for our discretization of the QG\n",
    "> equations with the leap-frog time-stepping scheme, or do we have to\n",
    "> abandon it?*\n",
    "\n",
    "There are several possible solutions, presented by [Mesinger and Arakawa](#Ref:MesingerArakawa) [p. 37], summarized here, including\n",
    "\n",
    "-   filter out the top half or third of the wavenumbers, so that the\n",
    "    aliasing is eliminated.\n",
    "\n",
    "-   use a differencing scheme that has a built-in damping of the\n",
    "    shortest wavelengths.\n",
    "\n",
    "-   the most elegant, and one that allows us to continue using the\n",
    "    leap-frog time stepping scheme, is one suggested by Arakawa, is one\n",
    "    that aims to eliminate the spurious inflow of energy into the system\n",
    "    by developing a discretization of the Jacobian term that satisfies\n",
    "    discrete analogues of the conservation properties for average\n",
    "    vorticity, enstrophy and kinetic energy.\n",
    "    \n",
    "This third approach will be the one we take here. The details can be\n",
    "found in the Mesinger-Arakawa paper, and are not essential here; the\n",
    "important point is that there is a discretization of the Jacobian that\n",
    "avoids the instability problem arising from aliasing error. This\n",
    "discrete Jacobian is called the *Arakawa Jacobian* and is\n",
    "obtained by averaging the discrete Jacobians obtained by using standard\n",
    "centered differences on the formulae [(Jacobian: Expansion 1)](#eq:jacob1), [(Jacobian: Expansion 2)](#eq:jacob2) and [(Jacobian: Expansion 3)](#eq:jacob3) (see\n",
    "[Problem One](#Problem-One) and the two quizzes following it in\n",
    "[Section Right Hand Side](#Right-Hand-Side).\n",
    "\n",
    "You will not be required to derive or code the Arakawa Jacobian (the\n",
    "details are messy!), and the code will be provided for you for all the\n",
    "problems following [Problem Two](#Problem-Two)."
   ]
  },
  {
   "cell_type": "markdown",
   "metadata": {},
   "source": [
    "## Classical Solutions ##\n",
    "\n",
    "[Bryan (1963)](#Ref:Bryan) and [Veronis (1966)](#Ref:Veronis)\n",
    "\n",
    "### Problem Six ###\n",
    "> Using the SOR code from\n",
    "Problems [Three](#Problem-Three) (free-slip BC’s) and [Four](#Problem-Four)\n",
    "(no-slip BC’s), try to reproduce the classical results of Bryan and\n",
    "Veronis."
   ]
  },
  {
   "cell_type": "markdown",
   "metadata": {},
   "source": [
    "## Mathematical Notes ##\n",
    "\n",
    "### Definition of the Beta-plane ###\n",
    "\n",
    "A $\\beta$-plane is a plane approximation of a curved section of the\n",
    "Earth’s surface, where the Coriolis parameter, $f(y)$, can be written\n",
    "roughly as a linear function of $y$ $$f(y) = f_0 + \\beta y$$ for $f_0$\n",
    "and $\\beta$ some constants. The motivation behind this approximation\n",
    "follows."
   ]
  },
  {
   "cell_type": "code",
   "execution_count": 13,
   "metadata": {},
   "outputs": [
    {
     "data": {
      "image/png": "[encoded data removed]",
      "text/plain": [
       "<IPython.core.display.Image object>"
      ]
     },
     "execution_count": 13,
     "metadata": {
      "image/png": {
       "width": "30%"
      }
     },
     "output_type": "execute_result"
    }
   ],
   "source": [
    "Image(filename='images/coriolis.png',width='30%') "
   ]
  },
  {
   "cell_type": "markdown",
   "metadata": {},
   "source": [
    "<div id='fig:globe'>\n",
    "**Figure Rotating Globe:**\n",
    "A depiction of the earth and its angular frequency of rotation,\n",
    "$\\Omega$, the local planetary vorticity vector in blue, and the Coriolis\n",
    "parameter, $f_0$, at a latitude of $\\theta_0$.\n",
    "</div>\n",
    "\n",
    "Consider a globe (the earth) which is rotating with angular frequency\n",
    "$\\Omega$ (see [Figure Rotating Globe](#fig:globe)),\n",
    "and assume that the patch of ocean under consideration is at latitude\n",
    "$\\theta$. The most important component of the Coriolis force is the\n",
    "local vertical (see the in [Figure Rotating Globe](#fig:globe)), which is defined in\n",
    "terms of the Coriolis parameter, $f$, to be $$f/2 = \\Omega \\sin\\theta.$$\n",
    "This expression may be simplified somewhat by ignoring curvature effects\n",
    "and approximating the earth’s surface at this point by a plane $-$ if\n",
    "the plane is located near the middle latitudes, then this is a good\n",
    "approximation. If $\\theta_0$ is the latitude at the center point of the\n",
    "plane, and $R$ is the radius of the earth (see\n",
    "[Figure Rotating Globe](#fig:globe)), then we can apply trigonometric ratios to\n",
    "obtain the following expression on the plane:\n",
    "$$f = \\underbrace{2\\Omega\\sin\\theta_0}_{f_0} +\n",
    "  \\underbrace{\\frac{2\\Omega\\cos\\theta_0}{R}}_\\beta \\, y$$ Not\n",
    "surprisingly, this plane is called a *mid-latitude\n",
    "$\\beta$-plane*."
   ]
  },
  {
   "cell_type": "code",
   "execution_count": 14,
   "metadata": {},
   "outputs": [
    {
     "data": {
      "image/png": "[encoded data removed]",
      "text/plain": [
       "<IPython.core.display.Image object>"
      ]
     },
     "execution_count": 14,
     "metadata": {
      "image/png": {
       "width": "30%"
      }
     },
     "output_type": "execute_result"
    }
   ],
   "source": [
    "Image(filename='images/beta-plane.png',width='30%') "
   ]
  },
  {
   "cell_type": "markdown",
   "metadata": {},
   "source": [
    "<div id='fig:beta'>\n",
    "**Figure Beta-plane:**\n",
    "The $\\beta$-plane approximation, with points on the plane located\n",
    "along the local $y$-axis. The Coriolis parameter, $f$, at any latitude\n",
    "$\\theta$, can be written in terms of $y$ using trigonometric\n",
    "ratios.</div>"
   ]
  },
  {
   "cell_type": "markdown",
   "metadata": {},
   "source": [
    "### Simplification of the QG Model Equations ##\n",
    "\n",
    "The first approximation we will make eliminates several of the\n",
    "non-linear terms in the set of equations: ([X-Momentum Eqn](#eq:xmom)), ([Y-Momentum Eqn](#eq:ymom)), ([Hydrostatic Eqn](#eq:hydrostatic)) and ([Continuity Eqn](#eq:continuity)). A common simplification that is made in\n",
    "this type of flow is the *quasi-geostrophic* (QG)\n",
    "approximation, where the horizontal pressure gradient and horizontal\n",
    "components of the Coriolis force are matched:\n",
    "$$fv \\approx \\frac{1}{\\rho} \\, \\frac {\\partial p}{\\partial x}, \\, \\, fu \\approx - \\,\\frac{1}{\\rho}\n",
    "\\, \\frac{\\partial p}{\\partial y} .$$ \n",
    "Remembering that the fluid is homogeneous (the density is\n",
    "constant), ([Continuity Eqn](#eq:continuity)) implies\n",
    "$$\\frac{\\partial^2 p}{\\partial x\\partial z} = 0, \\, \\, \\frac{\\partial^2 p}{\\partial y\\partial z} = 0.$$ We can\n",
    "then differentiate the QG balance equations to obtain\n",
    "$$\\frac{\\partial v}{\\partial z} \\approx 0, \\, \\, \\frac{\\partial u}{\\partial z} \\approx 0.$$ Therefore, the terms\n",
    "$w \\, \\partial u/\\partial z$ and $w \\, \\partial v/\\partial z$ can be neglected in ([(X-Momentum Eqn)](#eq:xmom)) and\n",
    "([(Y-Momentum Eqn)](#eq:ymom)).\n",
    "\n",
    "The next simplification is to eliminate the pressure terms in\n",
    "([(X-Momentum Eqn)](#eq:xmom)) and\n",
    "([(Y-Momentum Eqn)](#eq:ymom)) by cross-differentiating. If we define\n",
    "the vorticity $$\\zeta = \\partial v/\\partial x - \\partial u/\\partial y$$ then we can\n",
    "cross-differentiate the two momentum equations and replace them with a\n",
    "single equation in $\\zeta$:\n",
    "$$\\frac{\\partial \\zeta}{\\partial t} + u \\frac{\\partial \\zeta}{\\partial x} + v \\frac{\\partial \\zeta}{\\partial y} + v\\beta + (\\zeta+f)(\\frac {\\partial u}{\\partial x}+\\frac{\\partial v}{\\partial y}) =\n",
    "A_v \\, \\frac{\\partial^2 \\zeta}{\\partial z^2} + A_h \\, \\nabla_h^2 \\zeta,$$ where\n",
    "$\\beta \\equiv df/dy$. Notice the change in notation for derivatives,\n",
    "from $\\nabla$ to $\\nabla_h$: this indicates that derivative now appear\n",
    "only with respect to the “horizontal” coordinates, $x$ and $y$, since\n",
    "the $z$-dependence in the solution has been eliminated.\n",
    "\n",
    "The third approximation we will make is to assume that vorticity effects\n",
    "are dominated by the Coriolis force, or that $|\\zeta| \\ll f$. Using\n",
    "this, along with the ([Continuity Eqn](#eq:continuity)) implies that\n",
    "\n",
    "<a name='eq:diff'></a>\n",
    "(Vorticity Eqn)\n",
    "$$\\frac{\\partial \\zeta}{\\partial t} + u \\frac {\\partial \\zeta}{\\partial x} + v \\frac{\\partial \\zeta}{\\partial y} + v \\beta -f \\, \\frac{\\partial w}{\\partial z} = A_v \\,\n",
    "\\frac{\\partial^2 \\zeta}{\\partial z^2} + A_h \\, \\nabla_h^2 \\zeta .$$ \n",
    "The reason for\n",
    "making this simplification may not be obvious now but it is a good\n",
    "approximation in flows in the ocean and, as we will see next, it allows\n",
    "us to eliminate the Coriolis term.\n",
    "\n",
    "The final sequence of simplifications eliminate the $z$-dependence in\n",
    "the problem by integrating ([Vorticity Eqn](#eq:diff)) in the vertical direction and using boundary\n",
    "conditions.\n",
    "\n",
    "The top 500 metres of the ocean tend to act as a single slab-like layer.\n",
    "The effect of stratification and rotation cause mainly horizontal\n",
    "motion. To first order, the upper layers are approximately averaged flow\n",
    "(while to the next order, surface and deep water move in opposition with\n",
    "deep flow much weaker). Consequently, our averaging over depth takes\n",
    "into account this “first order” approximation embodying the horizontal\n",
    "(planar) motion, and ignoring the weaker (higher order) effects."
   ]
  },
  {
   "cell_type": "markdown",
   "metadata": {},
   "source": [
    "First, recognize that the vertical component of velocity on both the top\n",
    "and bottom surfaces should be zero: $$w = 0 \\;\\;\\; \\mbox{at $z=0$}$$\n",
    "$$w = 0 \\;\\;\\; \\mbox{at $z=-H$}$$ Notice that the in second\n",
    "condition we’ve also assumed that the water surface is approximately\n",
    "flat $-$ this is commonly known as the *rigid lid\n",
    "approximation*. Integrate the differential equation ([Vorticity Eqn](#eq:diff)) with respect\n",
    "to $z$, applying the above boundary conditions, and using the fact that\n",
    "$u$ and $v$ (and therefore also $\\zeta$) are independent of $z$,\n",
    "\n",
    "<a name='vort-depth-integ'></a>\n",
    "(Depth-Integrated Vorticity)\n",
    "$$\n",
    "  \\frac{1}{H} \\int_{-H}^0 \\mbox{(Vorticity Eqn)} dz \\Longrightarrow \n",
    "  \\frac {\\partial \\zeta}{\\partial t} + u \\frac {\\partial \\zeta}{\\partial x} + v \\frac {\\partial \\zeta}{\\partial y} + v\\beta \n",
    "  = \\frac{1}{H} \\, \\left( \\left. A_v \\, \n",
    "      \\frac{\\partial \\zeta}{\\partial z} \\right|_{z=0} - \\left.  A_v \\, \n",
    "      \\frac{\\partial \\zeta}{\\partial z} \\right|_{z=-H} \\right) \\, + A_h \\, \\nabla_h^2 \\zeta\n",
    "  $$"
   ]
  },
  {
   "cell_type": "markdown",
   "metadata": {},
   "source": [
    "The two boundary terms on the right hand side can be rewritten in terms\n",
    "of known information if we apply two additional boundary conditions: the\n",
    "first, that the given wind stress on the ocean surface,\n",
    "$$\\vec{\\tau}(x,y) = (\\tau_1,\\tau_2) \\;\\;\\mbox{at }\\;\\; z=0,$$ can be\n",
    "written as\n",
    "$$\\rho A_v \\left( \\frac{\\partial u}{\\partial z} , \\frac{\\partial v}{\\partial z} \\right) = \\left( \\tau_1 , \\tau_2\n",
    "  \\right)$$ which, after differentiating, leads to\n",
    "  \n",
    "<a name='eq:stressbc'></a>\n",
    "(Stress Boundary Condition)\n",
    "$$\\frac{1}{H} \\, A_v \\, \\left. \\frac{\\partial \\zeta}{\\partial z} \\right|_{z=0} = \\frac{1}{\\rho H} \\,\n",
    "  \\nabla_h \\times \\tau \\,;\n",
    "  $$ and, the second, that the *Ekman\n",
    "layer* along the bottom of the ocean, $z=-H$, generates Ekman\n",
    "pumping which obeys the following relationship:\n",
    "\n",
    "<a name='ekmanbc'></a>\n",
    "(Ekman Boundary Condition)\n",
    "$$\\frac{1}{H} \\, A_v \\, \\left. \\frac{\\partial \\zeta}{\\partial z} \\right|_{z=-H} =\n",
    "  \\; \\kappa \\zeta, \n",
    "  $$ where the *Ekman number*,\n",
    "$\\kappa$, is defined by\n",
    "$$\\kappa \\equiv  \\frac{1}{H}  \\left( \\frac{A_v f}{2} \\right)^{1/2}.$$\n",
    "Using ([Stress Boundary Condition](#eq:stressbc)) and ([Ekman Boundary Condition](#ekmanbc)) to replace the boundary terms in ([Depth-Integrated Vorticity](#vort-depth-integ)), we get the following\n",
    "equation for the vorticity:\n",
    "$$\\frac{\\partial \\zeta}{\\partial t} + u \\frac{\\partial \\zeta}{\\partial x} + v \\frac{\\partial \\zeta}{\\partial y} + v \\beta = \\frac{1}{\\rho H} \\, \\nabla_h \n",
    "\\times \\tau - \\kappa \\zeta + A_h \\, \\nabla_h^2 \\zeta.$$\n",
    "\n",
    "The next and final step may not seem at first to be much of a\n",
    "simplification, but it is essential in order to derive a differential\n",
    "equation that can be easily solved numerically. Integrate ([Continuity Eqn](#eq:continuity)) with respect\n",
    "to $z$ in order to obtain $$\\frac {\\partial u}{\\partial x} + \\frac{\\partial v}{\\partial y} = 0,$$ after which we can\n",
    "introduce a *stream function*, $\\psi$, defined in terms of\n",
    "the velocity as\n",
    "$$u = - \\, \\frac{\\partial \\psi}{\\partial y} \\, , \\, v = \\frac{\\partial \\psi}{\\partial x}.$$ The\n",
    "stream function satisfies this equation exactly, and we can write the\n",
    "vorticity as $$\\zeta = \\nabla_h^2 \\psi,$$ which then allows us to write\n",
    "both the velocity and vorticity in terms of a single variable, $\\psi$.\n",
    "\n",
    "After substituting into the vorticity equation, we are left with a\n",
    "single equation in the unknown stream function. $$\n",
    "\\frac{\\partial}{\\partial t} \\, \\nabla_h^2 \\psi + {\\cal J} \\left( \\psi, \\nabla_h^2 \\psi \\right) + \\beta \\, \\frac {\\partial \\psi}{\\partial x} = \\frac{-1}{\\rho H} \\, \\nabla_h \\times \\tau  - \\, \\kappa \\, \\nabla_h^2 \\psi + A_h \\, \\nabla_h^4 \\psi $$\n",
    "where\n",
    "$${\\cal J} (a,b) = \\frac{\\partial a}{\\partial x} \\, \\frac{\\partial b}{\\partial y} - \\frac{\\partial a}{\\partial y} \\, \\frac{\\partial b}{\\partial x}$$ is called the *Jacobian* operator."
   ]
  },
  {
   "cell_type": "markdown",
   "metadata": {},
   "source": [
    "The original system ([X-Momentum Eqn](#eq:xmom)), ([Y-Momentum Eqn](#eq:ymom)), ([Hydrostatic Eqn](#eq:hydrostatic)) and ([Continuity Eqn](#eq:continuity)) was a system of four non-linear PDE’s, in four\n",
    "independent variables (the three velocities and the pressure), each of\n",
    "which depend on the three spatial coordinates. Now let us review the\n",
    "approximations made above, and their effects on this system:\n",
    "\n",
    "1.  After applying the QG approximation and homogeneity, two of the\n",
    "    non-linear terms were eliminated from the momentum equations, so\n",
    "    that the vertical velocity, $w$, no longer appears.\n",
    "\n",
    "2.  By introducing the vorticity, $\\zeta$, the pressure was eliminated,\n",
    "    and the two momentum equations to be rewritten as a single equation\n",
    "    in $\\zeta$ and the velocities.\n",
    "\n",
    "3.  Some additional terms were eliminated by assuming that Coriolis\n",
    "    effects dominate vorticity, and applying the continuity condition.\n",
    "\n",
    "4.  Integrating over the vertical extent of the ocean, and applying\n",
    "    boundary conditions eliminated the $z$-dependence in the problem.\n",
    "\n",
    "5.  The final step consists of writing the unknown vorticity and\n",
    "    velocities in terms of the single unknown stream function, $\\psi$.\n",
    "\n",
    "It is evident that the final equation is considerably simpler: it is a\n",
    "single, non-linear PDE for the unknown stream function, $\\psi$, which is\n",
    "a function of only two independent variables. As we will see in the next\n",
    "section, this equation is of a very common type, for which simple and\n",
    "efficient numerical techniques are available."
   ]
  },
  {
   "cell_type": "markdown",
   "metadata": {},
   "source": [
    "## Glossary ##\n",
    "\n",
    "- **advection:** A property or quantity transferred by the flow of a fluid is said to be “advected” by the flow.\n",
    "aliasing error: In a numerical scheme, this is the phenomenon that occurs when a grid is not fine enough to resolve the high modes in a solution. These high waveumbers consequently appear as lower modes in the solution due to aliasing. If the scheme is such that these high wavenumber modes are amplified, then the aliased modes can lead to a significant error in the computed solution.\n",
    "- **$\\beta$-plane:** A $\\beta$-plane is a plane approximation of a curved section of the Earth’s surface, where the Coriolis parameter can be written roughly as a linear function.\n",
    "- **continuity equation:** The equation that describes mass conservation in a fluid, ${\\partial \\rho}/{\\partial t} + \\nabla \\cdot (\\rho \\vec u) = 0$\n",
    "- **Coriolis force:** An additional force experienced by an observer positioned in a rotating frame of reference. If $\\Omega$ is the angular velocity of the rotating frame, and $\\vec u$ is the velocity of an object observed within the rotating frame, then the Coriolis force, $\\Omega \\times \\vec u$, appears as a force tending to deflect the moving object to the right.\n",
    "- **Coriolis parameter:** The component of the planetary vorticity which is normal to the earth’s surface, usually denoted by f.\n",
    "- **difference stencil:** A convenient notation for representing difference approximation formula for derivatives. \n",
    "- **Ekman layer:** The frictional layer in a geophysical fluid flow field which appears on a rigid surface perpendicular to the rotation vector.\n",
    "- **Gauss-Seidel relaxation:** One of a class of iterative schemes for solving systems of linear equations. See Lab 8 for a complete discussion.\n",
    "- **homogeneous fluid:** A fluid with constant density. Even though the density of ocean water varies with depth, it is often assumed homogeneous in order to simplify the equations of motion.\n",
    "- **hydrostatic balance:** A balance, in the vertical direction, between the vertical pressure gradient and the buoyancy force. The pressure difference between any two points on a vertical line is assumed to depend only on the weight of the fluid between the points, as if the fluid were at rest, even though it is actually in motion. This approximation leads to a simplification in the equations of fluid flow, by replacing the vertical momentum equation.\n",
    "- **incompressible fluid:** A fluid for which changes in the density with pressure are negligible. For a fluid with velocity field, $\\vec u$, this is expressed by the equation $\\nabla \\cdot \\vec u = 0$. This equation states that the local increase of density with time must be balanced by the divergence of the mass flux.\n",
    "- **Jacobi relaxation:** The simplest of the iterative methods for solving linear systems of equations. See Lab 8 for a complete discussion.\n",
    "- **momentum equation(s):** The equations representing Newton’s second law of motion for a fluid. There is one momentum equation for each component of the velocity.\n",
    "- **over-relaxation:** Within a relaxation scheme, this refers to the use of a relaxation parameter $\\mu > 1$. It accelerates the standard Gauss-Seidel relaxation by forcing the iterates to move closer to the actual solution."
   ]
  },
  {
   "cell_type": "markdown",
   "metadata": {},
   "source": [
    "- **Poisson equation:** The partial differential equation $\\nabla^2 u = f$ or, written two dimensions, ${\\partial^2 u}/{\\partial x^2} + {\\partial^2 u}/{\\partial y^2} =f(x,y)$.\n",
    "- **QG:** abbreviation for quasi-geostrophic.\n",
    "- **quasi-geostrophic balance:** Approximate balance between the pressure gradient and the Coriolis Force.\n",
    "- **relaxation:** A term that applies to a class of iterative schemes for solving large systems of equations. The advantage to these schemes for sparse matrices (compared to direct schemes such as Gaussian elimination) is that they operate only on the non-zero entries of the matrix. For a description of relaxation methods, see Lab 8."
   ]
  },
  {
   "cell_type": "markdown",
   "metadata": {},
   "source": [
    "- **rigid lid approximation:** Assumption that the water surface deflection is negligible in the continuity equation (or conservation of volume equation)\n",
    "- **SOR:** see successive over-relaxation.\n",
    "- **sparse system:** A system of linear equations whose matrix representation has a large percentage of its entries equal to zero.\n",
    "- **stream function:** Incompressible, two-dimensional flows with velocity field $(u,v)$, may be described by a stream function, $\\psi(x, y)$, which satisfies $u = −{\\partial \\psi}/{\\partial y}, v = {\\partial \\psi}/{\\partial x}$. These equations are a consequence of the incompressibility condition.\n",
    "- **successive over-relaxation:** An iterative method for solving large systems of linear equations. See Lab 8 for a complete discussion.\n",
    "- **under-relaxation:** Within a relaxation scheme, this refers to the use of a relaxation parameter $\\mu < 1$. It is not appropriate for solving systems of equations directly, but does have some application to multigrid methods.\n",
    "- **vorticity:** Defined to be the curl of the velocity field, $\\zeta = \\nabla \\times \\vec u$. In geophysical flows, where the Earth is a rotating frame of reference, the vorticity can be considered as the sum of a relative vorticity (the curl of the velocity in the nonrotating frame) and the planetary vorticity, $2 \\Omega$. For these large-scale flows, vorticity is almost always present, and the planetary vorticity dominates."
   ]
  },
  {
   "cell_type": "markdown",
   "metadata": {},
   "source": [
    "## References ##\n",
    "\n",
    "<div id='Ref:ArakawaLamb'>\n",
    "Arakawa, A. and V. R. Lamb, 1981: A potential enstrophy and energy conserving scheme for the shallow water equations. Monthly Weather Review, 109, 18–36.\n",
    "</div>\n",
    "<div id=\"Ref:Bryan\">\n",
    "Bryan, K., 1963: A numerical investigation of a non-linear model of a wind-driven ocean. Journal of Atmospheric Science, 20, 594–606</div>\n",
    "<div id=\"Ref:McCalpin\">\n",
    "On the adjustment of azimuthally perturbed vortices. Journal of Geophysical Research, 92, 8213–8225.\n",
    "</div>\n",
    "<div id=\"Ref:MesingerArakawa\">\n",
    "Mesinger, F. and A. Arakawa, 1976: Numerical Methods Used in Atmospheric Models,GARP Publications Series No.~17, Global Atmospheric Research Programme.\n",
    "</div>\n",
    "<div id=\"Ref:Pedlosky\">\n",
    "Pedlosky, J., 1987: Geophysical Fluid Dynamics. Springer-Verlag, New York, 2nd edition.Pond, \n",
    "</div>\n",
    "<div id=\"Ref:Phillips\">\n",
    "Phillips, N. A., 1956: The general circulation of the atmosphere: A numerical experiment.\n",
    "Quarterly Journal of the Royal Meteorological Society, 82, 123–164.\n",
    "</div>\n",
    "<div id=\"Ref:Strang\">\n",
    "Strang, G., 1988: Linear Algebra and its Applications. Harcourt Brace Jovanovich, San Diego,\n",
    "CA, 2nd edition.\n",
    "</div>\n",
    "<div id=\"Ref:Veronis\">\n",
    "Veronis, G., 1966: Wind-driven ocean circulation – Part 2. Numerical solutions of the non- linear problem. Deep Sea Research, 13, 31–55.\n",
    "</div>"
   ]
  },
  {
   "cell_type": "code",
   "execution_count": null,
   "metadata": {},
   "outputs": [],
   "source": []
  }
 ],
 "metadata": {
  "jupytext": {
   "cell_metadata_filter": "all",
   "encoding": "# -*- coding: utf-8 -*-",
   "formats": "ipynb,py:percent",
   "notebook_metadata_filter": "all,-language_info,-toc,-latex_envs"
  },
  "kernelspec": {
   "display_name": "Python 3",
   "language": "python",
   "name": "python3"
  },
  "language_info": {
   "codemirror_mode": {
    "name": "ipython",
    "version": 3
   },
   "file_extension": ".py",
   "mimetype": "text/x-python",
   "name": "python",
   "nbconvert_exporter": "python",
   "pygments_lexer": "ipython3",
   "version": "3.7.6"
  },
  "latex_envs": {
   "LaTeX_envs_menu_present": true,
   "autoclose": false,
   "autocomplete": true,
   "bibliofile": "biblio.bib",
   "cite_by": "apalike",
   "current_citInitial": 1,
   "eqLabelWithNumbers": true,
   "eqNumInitial": 1,
   "hotkeys": {
    "equation": "meta-9"
   },
   "labels_anchors": false,
   "latex_user_defs": false,
   "report_style_numbering": false,
   "user_envs_cfg": false
  },
  "toc": {
   "base_numbering": 1,
   "nav_menu": {},
   "number_sections": true,
   "sideBar": true,
   "skip_h1_title": false,
   "title_cell": "Table of Contents",
   "title_sidebar": "Contents",
   "toc_cell": false,
   "toc_position": {},
   "toc_section_display": true,
   "toc_window_display": true
  }
 },
 "nbformat": 4,
 "nbformat_minor": 4
}
